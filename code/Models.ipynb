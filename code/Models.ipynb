{
 "cells": [
  {
   "cell_type": "markdown",
   "metadata": {},
   "source": [
    "# Model training\n",
    "After doing the data preprocessing and some EDA, we now shall begin our model training. The dataset is the subset of the EDA, you can use the data in Github."
   ]
  },
  {
   "cell_type": "code",
   "execution_count": 2,
   "metadata": {},
   "outputs": [],
   "source": [
    "import pandas as pd\n",
    "import numpy as np\n",
    "from sklearn.externals import joblib # used for save and reload models\n",
    "from sklearn.model_selection import GridSearchCV\n",
    "import time\n",
    "import warnings\n",
    "warnings.filterwarnings('ignore')"
   ]
  },
  {
   "cell_type": "code",
   "execution_count": 3,
   "metadata": {},
   "outputs": [
    {
     "name": "stdout",
     "output_type": "stream",
     "text": [
      "(100000, 11)\n"
     ]
    },
    {
     "data": {
      "text/html": [
       "<div>\n",
       "<style scoped>\n",
       "    .dataframe tbody tr th:only-of-type {\n",
       "        vertical-align: middle;\n",
       "    }\n",
       "\n",
       "    .dataframe tbody tr th {\n",
       "        vertical-align: top;\n",
       "    }\n",
       "\n",
       "    .dataframe thead th {\n",
       "        text-align: right;\n",
       "    }\n",
       "</style>\n",
       "<table border=\"1\" class=\"dataframe\">\n",
       "  <thead>\n",
       "    <tr style=\"text-align: right;\">\n",
       "      <th></th>\n",
       "      <th>price</th>\n",
       "      <th>year</th>\n",
       "      <th>manufacturer</th>\n",
       "      <th>condition</th>\n",
       "      <th>cylinders</th>\n",
       "      <th>fuel</th>\n",
       "      <th>odometer</th>\n",
       "      <th>transmission</th>\n",
       "      <th>drive</th>\n",
       "      <th>type</th>\n",
       "      <th>paint_color</th>\n",
       "    </tr>\n",
       "  </thead>\n",
       "  <tbody>\n",
       "    <tr>\n",
       "      <th>0</th>\n",
       "      <td>12500</td>\n",
       "      <td>2014.0</td>\n",
       "      <td>dodge</td>\n",
       "      <td>good</td>\n",
       "      <td>6 cylinders</td>\n",
       "      <td>other</td>\n",
       "      <td>112529.0</td>\n",
       "      <td>automatic</td>\n",
       "      <td>rwd</td>\n",
       "      <td>sedan</td>\n",
       "      <td>black</td>\n",
       "    </tr>\n",
       "    <tr>\n",
       "      <th>1</th>\n",
       "      <td>11899</td>\n",
       "      <td>2008.0</td>\n",
       "      <td>infiniti</td>\n",
       "      <td>good</td>\n",
       "      <td>8 cylinders</td>\n",
       "      <td>gas</td>\n",
       "      <td>124755.0</td>\n",
       "      <td>automatic</td>\n",
       "      <td>4wd</td>\n",
       "      <td>SUV</td>\n",
       "      <td>blue</td>\n",
       "    </tr>\n",
       "    <tr>\n",
       "      <th>2</th>\n",
       "      <td>16500</td>\n",
       "      <td>2012.0</td>\n",
       "      <td>ford</td>\n",
       "      <td>good</td>\n",
       "      <td>8 cylinders</td>\n",
       "      <td>gas</td>\n",
       "      <td>107000.0</td>\n",
       "      <td>automatic</td>\n",
       "      <td>4wd</td>\n",
       "      <td>pickup</td>\n",
       "      <td>white</td>\n",
       "    </tr>\n",
       "    <tr>\n",
       "      <th>3</th>\n",
       "      <td>6900</td>\n",
       "      <td>1985.0</td>\n",
       "      <td>chevrolet</td>\n",
       "      <td>excellent</td>\n",
       "      <td>8 cylinders</td>\n",
       "      <td>gas</td>\n",
       "      <td>129000.0</td>\n",
       "      <td>automatic</td>\n",
       "      <td>rwd</td>\n",
       "      <td>coupe</td>\n",
       "      <td>black</td>\n",
       "    </tr>\n",
       "    <tr>\n",
       "      <th>4</th>\n",
       "      <td>7600</td>\n",
       "      <td>2014.0</td>\n",
       "      <td>ford</td>\n",
       "      <td>excellent</td>\n",
       "      <td>4 cylinders</td>\n",
       "      <td>gas</td>\n",
       "      <td>42000.0</td>\n",
       "      <td>automatic</td>\n",
       "      <td>fwd</td>\n",
       "      <td>sedan</td>\n",
       "      <td>grey</td>\n",
       "    </tr>\n",
       "  </tbody>\n",
       "</table>\n",
       "</div>"
      ],
      "text/plain": [
       "   price    year manufacturer  condition    cylinders   fuel  odometer  \\\n",
       "0  12500  2014.0        dodge       good  6 cylinders  other  112529.0   \n",
       "1  11899  2008.0     infiniti       good  8 cylinders    gas  124755.0   \n",
       "2  16500  2012.0         ford       good  8 cylinders    gas  107000.0   \n",
       "3   6900  1985.0    chevrolet  excellent  8 cylinders    gas  129000.0   \n",
       "4   7600  2014.0         ford  excellent  4 cylinders    gas   42000.0   \n",
       "\n",
       "  transmission drive    type paint_color  \n",
       "0    automatic   rwd   sedan       black  \n",
       "1    automatic   4wd     SUV        blue  \n",
       "2    automatic   4wd  pickup       white  \n",
       "3    automatic   rwd   coupe       black  \n",
       "4    automatic   fwd   sedan        grey  "
      ]
     },
     "execution_count": 3,
     "metadata": {},
     "output_type": "execute_result"
    }
   ],
   "source": [
    "data = pd.read_csv('subset.csv')\n",
    "print(data.shape) \n",
    "data.head()"
   ]
  },
  {
   "cell_type": "code",
   "execution_count": 4,
   "metadata": {},
   "outputs": [],
   "source": [
    "# data['year'] = (data['year']-data.year.min()).astype(int)\n",
    "# data['odometer'] = data['odometer'] // 5000 # scaler, integer division\n",
    "data = data[data['price'] > 1000]\n",
    "data = data[data['price'] < 40000]\n",
    "# Rounded ['odometer'] to 5000\n",
    "data['odometer'] = data['odometer'] // 5000\n",
    "data = data[data['year'] > 110]"
   ]
  },
  {
   "cell_type": "code",
   "execution_count": 5,
   "metadata": {},
   "outputs": [],
   "source": [
    "# separate the numerical values and categorical values\n",
    "numerics = ['int8', 'int16', 'int32', 'int64', 'float16', 'float32', 'float64']\n",
    "categorical = []\n",
    "for col in data.columns:\n",
    "    if data[col].dtype not in numerics: \n",
    "        categorical.append(col)"
   ]
  },
  {
   "cell_type": "code",
   "execution_count": 6,
   "metadata": {},
   "outputs": [],
   "source": [
    "# label enconder\n",
    "from sklearn.preprocessing import LabelEncoder\n",
    "for col in categorical:\n",
    "    if col in data.columns:\n",
    "        le = LabelEncoder()\n",
    "        le.fit(list(data[col].astype(str).values))\n",
    "        data[col] = le.transform(list(data[col].astype(str).values))\n",
    "data_new = data.copy()"
   ]
  },
  {
   "cell_type": "code",
   "execution_count": 7,
   "metadata": {},
   "outputs": [
    {
     "data": {
      "text/plain": [
       "((100000, 10), (100000,))"
      ]
     },
     "execution_count": 7,
     "metadata": {},
     "output_type": "execute_result"
    }
   ],
   "source": [
    "temp = pd.DataFrame(data_new)\n",
    "X = temp.drop(columns = ['price'], axis = 1)\n",
    "y = temp['price'].values\n",
    "X.shape,y.shape"
   ]
  },
  {
   "cell_type": "code",
   "execution_count": 8,
   "metadata": {},
   "outputs": [
    {
     "data": {
      "text/plain": [
       "((80000, 10), (20000, 10), (80000,), (20000,))"
      ]
     },
     "execution_count": 8,
     "metadata": {},
     "output_type": "execute_result"
    }
   ],
   "source": [
    "# train test split\n",
    "from sklearn.model_selection import train_test_split\n",
    "X_train, X_test, y_train, y_test = train_test_split(X, y, test_size=0.2, random_state=0)\n",
    "X_train.shape, X_test.shape, y_train.shape, y_test.shape"
   ]
  },
  {
   "cell_type": "code",
   "execution_count": 9,
   "metadata": {},
   "outputs": [],
   "source": [
    "# standard scaler\n",
    "from sklearn.preprocessing import StandardScaler\n",
    "scaler = StandardScaler()\n",
    "X_train_scl = pd.DataFrame(scaler.fit_transform(X_train), columns = X_train.columns)\n",
    "X_test_scl = pd.DataFrame(scaler.fit_transform(X_test), columns = X_test.columns)"
   ]
  },
  {
   "cell_type": "code",
   "execution_count": 74,
   "metadata": {},
   "outputs": [],
   "source": [
    "X_train_scl_copy = X_train_scl.copy()\n",
    "X_test_scl_copy = X_test_scl.copy()\n",
    "train = pd.DataFrame(X_train_scl_copy)\n",
    "test = pd.DataFrame(X_test_scl_copy)\n",
    "train['price'] = y_train\n",
    "test['price'] = y_test"
   ]
  },
  {
   "cell_type": "code",
   "execution_count": 75,
   "metadata": {},
   "outputs": [
    {
     "data": {
      "text/plain": [
       "['test.pkl']"
      ]
     },
     "execution_count": 75,
     "metadata": {},
     "output_type": "execute_result"
    }
   ],
   "source": [
    "# Save the variables\n",
    "joblib.dump(train,'train.pkl')\n",
    "joblib.dump(test,'test.pkl')"
   ]
  },
  {
   "cell_type": "markdown",
   "metadata": {},
   "source": [
    "# Training Models"
   ]
  },
  {
   "cell_type": "code",
   "execution_count": 12,
   "metadata": {},
   "outputs": [],
   "source": [
    "# define the evaluation index\n",
    "from sklearn import metrics\n",
    "from sklearn.metrics import explained_variance_score, mean_absolute_error, mean_squared_error, r2_score\n",
    "# to store the scores in the form of (train_score,test_score)\n",
    "evs = []\n",
    "mae = []\n",
    "rmse = []\n",
    "r2 = []\n",
    "model_names = []"
   ]
  },
  {
   "cell_type": "markdown",
   "metadata": {},
   "source": [
    "## Baseline Models\n"
   ]
  },
  {
   "cell_type": "markdown",
   "metadata": {},
   "source": [
    "### Linear Regression"
   ]
  },
  {
   "cell_type": "code",
   "execution_count": 13,
   "metadata": {},
   "outputs": [
    {
     "data": {
      "text/plain": [
       "LinearRegression(copy_X=True, fit_intercept=True, n_jobs=None,\n",
       "         normalize=False)"
      ]
     },
     "execution_count": 13,
     "metadata": {},
     "output_type": "execute_result"
    }
   ],
   "source": [
    "# training for Linear Regresion Model\n",
    "from sklearn.linear_model import LinearRegression\n",
    "lr = LinearRegression()\n",
    "lr.fit(X_train_scl,y_train)"
   ]
  },
  {
   "cell_type": "code",
   "execution_count": 14,
   "metadata": {
    "scrolled": true
   },
   "outputs": [
    {
     "name": "stdout",
     "output_type": "stream",
     "text": [
      "Training Score:\n",
      "       Explained Variance Score(EVC): 0.3853\n",
      "       Mean Absolute Error(MAE): 4859.83\n",
      "       Root Mean Squard Error(RMSE): 6699.26\n",
      "       R Square(R2): 0.3853\n"
     ]
    }
   ],
   "source": [
    "y_train_pred = lr.predict(X_train_scl)\n",
    "train_evs = explained_variance_score(y_train,y_train_pred) \n",
    "train_mae = mean_absolute_error(y_train,y_train_pred)\n",
    "train_rmse = mean_squared_error(y_train,y_train_pred)**0.5\n",
    "train_r2 = r2_score(y_train,y_train_pred)\n",
    "str1 = '''Training Score:\n",
    "       Explained Variance Score(EVC): %.4f\n",
    "       Mean Absolute Error(MAE): %.2f\n",
    "       Root Mean Squard Error(RMSE): %.2f\n",
    "       R Square(R2): %.4f''' %(train_evs,train_mae,train_rmse,train_r2)\n",
    "print(str1)"
   ]
  },
  {
   "cell_type": "code",
   "execution_count": 15,
   "metadata": {
    "scrolled": false
   },
   "outputs": [
    {
     "name": "stdout",
     "output_type": "stream",
     "text": [
      "Testing Score:\n",
      "       Explained Variance Score(EVC): 0.3469\n",
      "       Mean Absolute Error(MAE): 4940.68\n",
      "       Root Mean Squard Error(RMSE): 6846.84\n",
      "       R Square(R2): 0.3467\n"
     ]
    }
   ],
   "source": [
    "y_test_pred = lr.predict(X_test_scl)\n",
    "test_evs = explained_variance_score(y_test,y_test_pred) \n",
    "test_mae = mean_absolute_error(y_test,y_test_pred)\n",
    "test_rmse = mean_squared_error(y_test,y_test_pred)**0.5\n",
    "test_r2 = r2_score(y_test,y_test_pred)\n",
    "str1 = '''Testing Score:\n",
    "       Explained Variance Score(EVC): %.4f\n",
    "       Mean Absolute Error(MAE): %.2f\n",
    "       Root Mean Squard Error(RMSE): %.2f\n",
    "       R Square(R2): %.4f''' %(test_evs,test_mae,test_rmse,test_r2)\n",
    "print(str1)"
   ]
  },
  {
   "cell_type": "code",
   "execution_count": 13,
   "metadata": {},
   "outputs": [],
   "source": [
    "# # only store once\n",
    "# evs.append((train_evs,test_evs))\n",
    "# mae.append((train_mae,test_mae))\n",
    "# rmse.append((train_rmse,test_rmse))\n",
    "# r2.append((train_r2,test_r2))\n",
    "# model_names.append('Linear Regression')"
   ]
  },
  {
   "cell_type": "markdown",
   "metadata": {},
   "source": [
    "### Supoort Vector Regression"
   ]
  },
  {
   "cell_type": "code",
   "execution_count": 16,
   "metadata": {},
   "outputs": [],
   "source": [
    "from sklearn.svm import LinearSVR\n",
    "# # below codes are tested for selecting the best C\n",
    "# # C = [0.01, 0.03, 0.1, 0.3, 1, 3, 10, 30, 100,200,300]\n",
    "# C = [i for i in np.arange(2.5,3.5,0.1)]\n",
    "# # C = [i for i in np.arange(2,2.3,0.05)]\n",
    "# a,b,c,d = [],[],[],[]\n",
    "# for i in C:\n",
    "#     svr = LinearSVR(C = i)\n",
    "#     svr.fit(X_train_scl, y_train)\n",
    "#     y_train_pred = svr.predict(X_train_scl)\n",
    "#     a.append(explained_variance_score(y_train,y_train_pred))\n",
    "#     b.append(mean_absolute_error(y_train,y_train_pred))\n",
    "#     c.append(mean_squared_error(y_train,y_train_pred)**0.5)\n",
    "#     d.append(r2_score(y_train,y_train_pred))\n",
    "# np.argmax(np.array(a)), np.argmin(np.array(b)), np.argmin(np.array(c)), np.argmax(np.array(d))"
   ]
  },
  {
   "cell_type": "code",
   "execution_count": 17,
   "metadata": {},
   "outputs": [
    {
     "data": {
      "text/plain": [
       "LinearSVR(C=3.3, dual=True, epsilon=0.0, fit_intercept=True,\n",
       "     intercept_scaling=1.0, loss='epsilon_insensitive', max_iter=1000,\n",
       "     random_state=None, tol=0.0001, verbose=0)"
      ]
     },
     "execution_count": 17,
     "metadata": {},
     "output_type": "execute_result"
    }
   ],
   "source": [
    "# C is 3.3, perfomance better\n",
    "svr = LinearSVR(C = 3.3)\n",
    "svr.fit(X_train_scl,y_train)"
   ]
  },
  {
   "cell_type": "code",
   "execution_count": 18,
   "metadata": {},
   "outputs": [
    {
     "name": "stdout",
     "output_type": "stream",
     "text": [
      "Training Score:\n",
      "       Explained Variance Score(EVC): 0.2367\n",
      "       Mean Absolute Error(MAE): 4341.69\n",
      "       Root Mean Squard Error(RMSE): 7624.04\n",
      "       R Square(R2): 0.2039\n"
     ]
    }
   ],
   "source": [
    "y_train_pred = svr.predict(X_train_scl)\n",
    "train_evs = explained_variance_score(y_train,y_train_pred) \n",
    "train_mae = mean_absolute_error(y_train,y_train_pred)\n",
    "train_rmse = mean_squared_error(y_train,y_train_pred)**0.5\n",
    "train_r2 = r2_score(y_train,y_train_pred)\n",
    "str1 = '''Training Score:\n",
    "       Explained Variance Score(EVC): %.4f\n",
    "       Mean Absolute Error(MAE): %.2f\n",
    "       Root Mean Squard Error(RMSE): %.2f\n",
    "       R Square(R2): %.4f''' %(train_evs,train_mae,train_rmse,train_r2)\n",
    "print(str1)"
   ]
  },
  {
   "cell_type": "code",
   "execution_count": 19,
   "metadata": {},
   "outputs": [
    {
     "name": "stdout",
     "output_type": "stream",
     "text": [
      "Testing Score:\n",
      "       Explained Variance Score(EVC): 0.1713\n",
      "       Mean Absolute Error(MAE): 4375.88\n",
      "       Root Mean Squard Error(RMSE): 7839.09\n",
      "       R Square(R2): 0.1436\n"
     ]
    }
   ],
   "source": [
    "y_test_pred = svr.predict(X_test_scl)\n",
    "test_evs = explained_variance_score(y_test,y_test_pred) \n",
    "test_mae = mean_absolute_error(y_test,y_test_pred)\n",
    "test_rmse = mean_squared_error(y_test,y_test_pred)**0.5\n",
    "test_r2 = r2_score(y_test,y_test_pred)\n",
    "str1 = '''Testing Score:\n",
    "       Explained Variance Score(EVC): %.4f\n",
    "       Mean Absolute Error(MAE): %.2f\n",
    "       Root Mean Squard Error(RMSE): %.2f\n",
    "       R Square(R2): %.4f''' %(test_evs,test_mae,test_rmse,test_r2)\n",
    "print(str1)"
   ]
  },
  {
   "cell_type": "code",
   "execution_count": 18,
   "metadata": {},
   "outputs": [],
   "source": [
    "# # only store once\n",
    "# evs.append((train_evs,test_evs))\n",
    "# mae.append((train_mae,test_mae))\n",
    "# rmse.append((train_rmse,test_rmse))\n",
    "# r2.append((train_r2,test_r2))\n",
    "# model_names.append('Support Vector Regression')"
   ]
  },
  {
   "cell_type": "code",
   "execution_count": null,
   "metadata": {},
   "outputs": [],
   "source": []
  },
  {
   "cell_type": "markdown",
   "metadata": {},
   "source": [
    "## SGDRegressor"
   ]
  },
  {
   "cell_type": "code",
   "execution_count": 21,
   "metadata": {},
   "outputs": [
    {
     "data": {
      "text/plain": [
       "SGDRegressor(alpha=0.0001, average=False, early_stopping=False, epsilon=0.1,\n",
       "       eta0=0.01, fit_intercept=True, l1_ratio=0.15,\n",
       "       learning_rate='invscaling', loss='squared_loss', max_iter=None,\n",
       "       n_iter=None, n_iter_no_change=5, penalty='l2', power_t=0.25,\n",
       "       random_state=None, shuffle=True, tol=None, validation_fraction=0.1,\n",
       "       verbose=0, warm_start=False)"
      ]
     },
     "execution_count": 21,
     "metadata": {},
     "output_type": "execute_result"
    }
   ],
   "source": [
    "from sklearn.linear_model import SGDRegressor\n",
    "sgd = SGDRegressor()\n",
    "sgd.fit(X_train_scl, y_train)"
   ]
  },
  {
   "cell_type": "code",
   "execution_count": 22,
   "metadata": {},
   "outputs": [
    {
     "name": "stdout",
     "output_type": "stream",
     "text": [
      "Training Score:\n",
      "       Explained Variance Score(EVC): 0.3818\n",
      "       Mean Absolute Error(MAE): 4862.78\n",
      "       Root Mean Squard Error(RMSE): 6718.69\n",
      "       R Square(R2): 0.3817\n"
     ]
    }
   ],
   "source": [
    "y_train_pred = sgd.predict(X_train_scl)\n",
    "train_evs = explained_variance_score(y_train,y_train_pred) \n",
    "train_mae = mean_absolute_error(y_train,y_train_pred)\n",
    "train_rmse = mean_squared_error(y_train,y_train_pred)**0.5\n",
    "train_r2 = r2_score(y_train,y_train_pred)\n",
    "str1 = '''Training Score:\n",
    "       Explained Variance Score(EVC): %.4f\n",
    "       Mean Absolute Error(MAE): %.2f\n",
    "       Root Mean Squard Error(RMSE): %.2f\n",
    "       R Square(R2): %.4f''' %(train_evs,train_mae,train_rmse,train_r2)\n",
    "print(str1)"
   ]
  },
  {
   "cell_type": "code",
   "execution_count": 23,
   "metadata": {},
   "outputs": [
    {
     "name": "stdout",
     "output_type": "stream",
     "text": [
      "Testing Score:\n",
      "       Explained Variance Score(EVC): 0.3447\n",
      "       Mean Absolute Error(MAE): 4938.19\n",
      "       Root Mean Squard Error(RMSE): 6857.39\n",
      "       R Square(R2): 0.3446\n"
     ]
    }
   ],
   "source": [
    "y_test_pred = sgd.predict(X_test_scl)\n",
    "test_evs = explained_variance_score(y_test,y_test_pred) \n",
    "test_mae = mean_absolute_error(y_test,y_test_pred)\n",
    "test_rmse = mean_squared_error(y_test,y_test_pred)**0.5\n",
    "test_r2 = r2_score(y_test,y_test_pred)\n",
    "str1 = '''Testing Score:\n",
    "       Explained Variance Score(EVC): %.4f\n",
    "       Mean Absolute Error(MAE): %.2f\n",
    "       Root Mean Squard Error(RMSE): %.2f\n",
    "       R Square(R2): %.4f''' %(test_evs,test_mae,test_rmse,test_r2)\n",
    "print(str1)"
   ]
  },
  {
   "cell_type": "code",
   "execution_count": 22,
   "metadata": {},
   "outputs": [],
   "source": [
    "# # only store once\n",
    "# evs.append((train_evs,test_evs))\n",
    "# mae.append((train_mae,test_mae))\n",
    "# rmse.append((train_rmse,test_rmse))\n",
    "# r2.append((train_r2,test_r2))\n",
    "# model_names.append('SDGRegressor')"
   ]
  },
  {
   "cell_type": "markdown",
   "metadata": {},
   "source": [
    "## Ridge Regression"
   ]
  },
  {
   "cell_type": "code",
   "execution_count": 24,
   "metadata": {},
   "outputs": [
    {
     "data": {
      "text/plain": [
       "RidgeCV(alphas=array([ 0.01,  0.03,  0.1 ,  0.3 ,  1.  ,  3.  , 10.  ]), cv=5,\n",
       "    fit_intercept=True, gcv_mode=None, normalize=False, scoring='r2',\n",
       "    store_cv_values=False)"
      ]
     },
     "execution_count": 24,
     "metadata": {},
     "output_type": "execute_result"
    }
   ],
   "source": [
    "from sklearn.linear_model import RidgeCV\n",
    "alpha = [0.01, 0.03, 0.1, 0.3, 1, 3, 10]\n",
    "rcv = RidgeCV(alphas= alpha, cv = 5, scoring='r2')\n",
    "rcv.fit(X_train_scl,y_train)"
   ]
  },
  {
   "cell_type": "code",
   "execution_count": 25,
   "metadata": {},
   "outputs": [
    {
     "name": "stdout",
     "output_type": "stream",
     "text": [
      "Training Score:\n",
      "       Explained Variance Score(EVC): 0.3853\n",
      "       Mean Absolute Error(MAE): 4859.95\n",
      "       Root Mean Squard Error(RMSE): 6699.26\n",
      "       R Square(R2): 0.3853\n"
     ]
    }
   ],
   "source": [
    "y_train_pred = rcv.predict(X_train_scl)\n",
    "train_evs = explained_variance_score(y_train,y_train_pred) \n",
    "train_mae = mean_absolute_error(y_train,y_train_pred)\n",
    "train_rmse = mean_squared_error(y_train,y_train_pred)**0.5\n",
    "train_r2 = r2_score(y_train,y_train_pred)\n",
    "str1 = '''Training Score:\n",
    "       Explained Variance Score(EVC): %.4f\n",
    "       Mean Absolute Error(MAE): %.2f\n",
    "       Root Mean Squard Error(RMSE): %.2f\n",
    "       R Square(R2): %.4f''' %(train_evs,train_mae,train_rmse,train_r2)\n",
    "print(str1)"
   ]
  },
  {
   "cell_type": "code",
   "execution_count": 26,
   "metadata": {},
   "outputs": [
    {
     "name": "stdout",
     "output_type": "stream",
     "text": [
      "Testing Score:\n",
      "       Explained Variance Score(EVC): 0.3469\n",
      "       Mean Absolute Error(MAE): 4940.79\n",
      "       Root Mean Squard Error(RMSE): 6846.82\n",
      "       R Square(R2): 0.3467\n"
     ]
    }
   ],
   "source": [
    "y_test_pred = rcv.predict(X_test_scl)\n",
    "test_evs = explained_variance_score(y_test,y_test_pred) \n",
    "test_mae = mean_absolute_error(y_test,y_test_pred)\n",
    "test_rmse = mean_squared_error(y_test,y_test_pred)**0.5\n",
    "test_r2 = r2_score(y_test,y_test_pred)\n",
    "str1 = '''Testing Score:\n",
    "       Explained Variance Score(EVC): %.4f\n",
    "       Mean Absolute Error(MAE): %.2f\n",
    "       Root Mean Squard Error(RMSE): %.2f\n",
    "       R Square(R2): %.4f''' %(test_evs,test_mae,test_rmse,test_r2)\n",
    "print(str1)"
   ]
  },
  {
   "cell_type": "code",
   "execution_count": null,
   "metadata": {},
   "outputs": [],
   "source": []
  },
  {
   "cell_type": "markdown",
   "metadata": {},
   "source": [
    "# Tree models"
   ]
  },
  {
   "cell_type": "markdown",
   "metadata": {},
   "source": [
    "## Decision Tree"
   ]
  },
  {
   "cell_type": "code",
   "execution_count": 27,
   "metadata": {},
   "outputs": [
    {
     "data": {
      "text/plain": [
       "DecisionTreeRegressor(criterion='mse', max_depth=10, max_features='auto',\n",
       "           max_leaf_nodes=None, min_impurity_decrease=0.0,\n",
       "           min_impurity_split=None, min_samples_leaf=1,\n",
       "           min_samples_split=2, min_weight_fraction_leaf=0.0,\n",
       "           presort=False, random_state=None, splitter='best')"
      ]
     },
     "execution_count": 27,
     "metadata": {},
     "output_type": "execute_result"
    }
   ],
   "source": [
    "from sklearn.tree import DecisionTreeRegressor\n",
    "dt = DecisionTreeRegressor(max_depth=10,max_features='auto')\n",
    "dt.fit(X_train_scl,y_train)"
   ]
  },
  {
   "cell_type": "code",
   "execution_count": 28,
   "metadata": {},
   "outputs": [
    {
     "name": "stdout",
     "output_type": "stream",
     "text": [
      "Training Score:\n",
      "       Explained Variance Score(EVC): 0.8326\n",
      "       Mean Absolute Error(MAE): 2464.94\n",
      "       Root Mean Squard Error(RMSE): 3496.42\n",
      "       R Square(R2): 0.8326\n"
     ]
    }
   ],
   "source": [
    "y_train_pred = dt.predict(X_train_scl)\n",
    "train_evs = explained_variance_score(y_train,y_train_pred) \n",
    "train_mae = mean_absolute_error(y_train,y_train_pred)\n",
    "train_rmse = mean_squared_error(y_train,y_train_pred)**0.5\n",
    "train_r2 = r2_score(y_train,y_train_pred)\n",
    "str1 = '''Training Score:\n",
    "       Explained Variance Score(EVC): %.4f\n",
    "       Mean Absolute Error(MAE): %.2f\n",
    "       Root Mean Squard Error(RMSE): %.2f\n",
    "       R Square(R2): %.4f''' %(train_evs,train_mae,train_rmse,train_r2)\n",
    "print(str1)"
   ]
  },
  {
   "cell_type": "code",
   "execution_count": 29,
   "metadata": {},
   "outputs": [
    {
     "name": "stdout",
     "output_type": "stream",
     "text": [
      "Testing Score:\n",
      "       Explained Variance Score(EVC): 0.8013\n",
      "       Mean Absolute Error(MAE): 2625.76\n",
      "       Root Mean Squard Error(RMSE): 3775.44\n",
      "       R Square(R2): 0.8013\n"
     ]
    }
   ],
   "source": [
    "y_test_pred = dt.predict(X_test_scl)\n",
    "test_evs = explained_variance_score(y_test,y_test_pred) \n",
    "test_mae = mean_absolute_error(y_test,y_test_pred)\n",
    "test_rmse = mean_squared_error(y_test,y_test_pred)**0.5\n",
    "test_r2 = r2_score(y_test,y_test_pred)\n",
    "str1 = '''Testing Score:\n",
    "       Explained Variance Score(EVC): %.4f\n",
    "       Mean Absolute Error(MAE): %.2f\n",
    "       Root Mean Squard Error(RMSE): %.2f\n",
    "       R Square(R2): %.4f''' %(test_evs,test_mae,test_rmse,test_r2)\n",
    "print(str1)"
   ]
  },
  {
   "cell_type": "code",
   "execution_count": null,
   "metadata": {},
   "outputs": [],
   "source": []
  },
  {
   "cell_type": "markdown",
   "metadata": {},
   "source": [
    "## Random Forest"
   ]
  },
  {
   "cell_type": "markdown",
   "metadata": {},
   "source": [
    "This block takes training time for around 20 minutes\n",
    "If you want to test for this model, you can\n",
    "use the pre-trained model in the next sub-section of Random Forest\n",
    "See in rf = joblib.load('RandomForest.pkl') function"
   ]
  },
  {
   "cell_type": "code",
   "execution_count": 30,
   "metadata": {},
   "outputs": [
    {
     "name": "stdout",
     "output_type": "stream",
     "text": [
      "Training time\n",
      "1072.392615556717\n"
     ]
    }
   ],
   "source": [
    "from sklearn.ensemble import RandomForestRegressor\n",
    "start = time.time()\n",
    "rf = GridSearchCV(RandomForestRegressor(),param_grid={'n_estimators':[10,50,100,300],'max_depth':[5,10,15,20]},cv = 5)\n",
    "# rf = RandomForestRegressor(n_estimators=100)\n",
    "rf.fit(X_train_scl,y_train)\n",
    "end = time.time()\n",
    "print('Training time')\n",
    "print(end-start)"
   ]
  },
  {
   "cell_type": "code",
   "execution_count": 34,
   "metadata": {},
   "outputs": [
    {
     "data": {
      "text/plain": [
       "{'max_depth': 20, 'n_estimators': 300}"
      ]
     },
     "execution_count": 34,
     "metadata": {},
     "output_type": "execute_result"
    }
   ],
   "source": [
    "rf.best_params_"
   ]
  },
  {
   "cell_type": "code",
   "execution_count": 68,
   "metadata": {},
   "outputs": [
    {
     "data": {
      "text/plain": [
       "['RandomeForest.pkl']"
      ]
     },
     "execution_count": 68,
     "metadata": {},
     "output_type": "execute_result"
    }
   ],
   "source": [
    "# save the model\n",
    "joblib.dump(rf,'RandomeForest.pkl')"
   ]
  },
  {
   "cell_type": "markdown",
   "metadata": {},
   "source": [
    "Load the pretrained model of Random Forest"
   ]
  },
  {
   "cell_type": "code",
   "execution_count": 32,
   "metadata": {},
   "outputs": [
    {
     "name": "stdout",
     "output_type": "stream",
     "text": [
      "Training Score:\n",
      "       Explained Variance Score(EVC): 0.9746\n",
      "       Mean Absolute Error(MAE): 889.43\n",
      "       Root Mean Squard Error(RMSE): 1362.40\n",
      "       R Square(R2): 0.9746\n"
     ]
    }
   ],
   "source": [
    "y_train_pred = rf.predict(X_train_scl)\n",
    "train_evs = explained_variance_score(y_train,y_train_pred) \n",
    "train_mae = mean_absolute_error(y_train,y_train_pred)\n",
    "train_rmse = mean_squared_error(y_train,y_train_pred)**0.5\n",
    "train_r2 = r2_score(y_train,y_train_pred)\n",
    "str1 = '''Training Score:\n",
    "       Explained Variance Score(EVC): %.4f\n",
    "       Mean Absolute Error(MAE): %.2f\n",
    "       Root Mean Squard Error(RMSE): %.2f\n",
    "       R Square(R2): %.4f''' %(train_evs,train_mae,train_rmse,train_r2)\n",
    "print(str1)"
   ]
  },
  {
   "cell_type": "code",
   "execution_count": 33,
   "metadata": {},
   "outputs": [
    {
     "name": "stdout",
     "output_type": "stream",
     "text": [
      "Testing Score:\n",
      "       Explained Variance Score(EVC): 0.8657\n",
      "       Mean Absolute Error(MAE): 2012.86\n",
      "       Root Mean Squard Error(RMSE): 3104.29\n",
      "       R Square(R2): 0.8657\n"
     ]
    }
   ],
   "source": [
    "y_test_pred = rf.predict(X_test_scl)\n",
    "test_evs = explained_variance_score(y_test,y_test_pred) \n",
    "test_mae = mean_absolute_error(y_test,y_test_pred)\n",
    "test_rmse = mean_squared_error(y_test,y_test_pred)**0.5\n",
    "test_r2 = r2_score(y_test,y_test_pred)\n",
    "str1 = '''Testing Score:\n",
    "       Explained Variance Score(EVC): %.4f\n",
    "       Mean Absolute Error(MAE): %.2f\n",
    "       Root Mean Squard Error(RMSE): %.2f\n",
    "       R Square(R2): %.4f''' %(test_evs,test_mae,test_rmse,test_r2)\n",
    "print(str1)"
   ]
  },
  {
   "cell_type": "code",
   "execution_count": null,
   "metadata": {},
   "outputs": [],
   "source": []
  },
  {
   "cell_type": "markdown",
   "metadata": {},
   "source": [
    "## Gradient Boosting\n",
    "http://hyperopt.github.io/hyperopt/"
   ]
  },
  {
   "cell_type": "code",
   "execution_count": 7,
   "metadata": {},
   "outputs": [
    {
     "data": {
      "text/plain": [
       "((80000, 10), (80000,), (20000, 10), (20000,))"
      ]
     },
     "execution_count": 7,
     "metadata": {},
     "output_type": "execute_result"
    }
   ],
   "source": [
    "train = pd.read_csv('train.csv')\n",
    "test = pd.read_csv('test.csv')\n",
    "# used pre-stored training and testing dataset\n",
    "X_train_scl = train.drop(columns='price',axis = 1)\n",
    "y_train = train['price']\n",
    "X_test_scl = test.drop(columns='price',axis = 1)\n",
    "y_test = test['price']\n",
    "X_train_scl.shape, y_train.shape, X_test_scl.shape, y_test.shape"
   ]
  },
  {
   "cell_type": "code",
   "execution_count": 8,
   "metadata": {},
   "outputs": [
    {
     "name": "stdout",
     "output_type": "stream",
     "text": [
      "0.873837205508892                                                                                                      \n",
      "{'max_depth': 8, 'n_estimators': 124}                                                                                  \n",
      "0.7911314320953385                                                                                                     \n",
      "{'max_depth': 2, 'n_estimators': 113}                                                                                  \n",
      "0.883081129379687                                                                                                      \n",
      "{'max_depth': 8, 'n_estimators': 699}                                                                                  \n",
      "0.882955730119062                                                                                                      \n",
      "{'max_depth': 9, 'n_estimators': 874}                                                                                  \n",
      "0.8516579340417476                                                                                                     \n",
      "{'max_depth': 3, 'n_estimators': 849}                                                                                  \n",
      "100%|█████████████████████████████████████████████████| 5/5 [47:27<00:00, 569.55s/trial, best loss: 0.7911314320953385]\n",
      "best:\n",
      "{'max_depth': 0, 'n_estimators': 13}\n",
      "training time for 5-fold cross validation\n",
      "2848.2704186439514\n"
     ]
    }
   ],
   "source": [
    "from sklearn.ensemble import GradientBoostingRegressor\n",
    "from sklearn.model_selection import cross_val_score\n",
    "# ! pip install hyperopt\n",
    "from hyperopt import STATUS_OK, Trials, fmin, hp, tpe, space_eval\n",
    "import time\n",
    "start = time.time()\n",
    "def hyperopt_gb_score(params):\n",
    "    clf = GradientBoostingRegressor(**params)\n",
    "    current_score = cross_val_score(clf, X_train_scl, y_train, cv=5).mean()\n",
    "    print(current_score, params)\n",
    "    return current_score \n",
    " \n",
    "parameters = {\n",
    "            'n_estimators': hp.choice('n_estimators', range(100, 1000)),\n",
    "            'max_depth': hp.choice('max_depth', np.arange(2, 10, dtype=int))            \n",
    "        }\n",
    " \n",
    "best = fmin(fn=hyperopt_gb_score, space=parameters, algo=tpe.suggest, max_evals=5)\n",
    "end = time.time()\n",
    "print('best:')\n",
    "print(best)\n",
    "print('training time for 5-fold cross validation')\n",
    "print(end-start)"
   ]
  },
  {
   "cell_type": "code",
   "execution_count": 59,
   "metadata": {},
   "outputs": [
    {
     "data": {
      "text/plain": [
       "{'max_depth': 2, 'n_estimators': 338}"
      ]
     },
     "execution_count": 59,
     "metadata": {},
     "output_type": "execute_result"
    }
   ],
   "source": [
    "params = space_eval(parameters, best)\n",
    "params"
   ]
  },
  {
   "cell_type": "code",
   "execution_count": 62,
   "metadata": {},
   "outputs": [
    {
     "data": {
      "text/plain": [
       "GradientBoostingRegressor(alpha=0.9, criterion='friedman_mse', init=None,\n",
       "             learning_rate=0.1, loss='ls', max_depth=2, max_features=None,\n",
       "             max_leaf_nodes=None, min_impurity_decrease=0.0,\n",
       "             min_impurity_split=None, min_samples_leaf=1,\n",
       "             min_samples_split=2, min_weight_fraction_leaf=0.0,\n",
       "             n_estimators=338, n_iter_no_change=None, presort='auto',\n",
       "             random_state=None, subsample=1.0, tol=0.0001,\n",
       "             validation_fraction=0.1, verbose=0, warm_start=False)"
      ]
     },
     "execution_count": 62,
     "metadata": {},
     "output_type": "execute_result"
    }
   ],
   "source": [
    "parameter = {'max_depth': 2, 'n_estimators': 338}\n",
    "grd_boost_reg = GradientBoostingRegressor(**parameter)\n",
    "grd_boost_reg.fit(X_train_scl,y_train)"
   ]
  },
  {
   "cell_type": "code",
   "execution_count": 67,
   "metadata": {},
   "outputs": [
    {
     "data": {
      "text/plain": [
       "['GradientBoostingRegressor.pkl']"
      ]
     },
     "execution_count": 67,
     "metadata": {},
     "output_type": "execute_result"
    }
   ],
   "source": [
    "joblib.dump(grd_boost_reg,'GradientBoostingRegressor.pkl')"
   ]
  },
  {
   "cell_type": "code",
   "execution_count": 63,
   "metadata": {},
   "outputs": [
    {
     "name": "stdout",
     "output_type": "stream",
     "text": [
      "Training Score:\n",
      "       Explained Variance Score(EVC): 0.8193\n",
      "       Mean Absolute Error(MAE): 2548.04\n",
      "       Root Mean Squard Error(RMSE): 3632.09\n",
      "       R Square(R2): 0.8193\n"
     ]
    }
   ],
   "source": [
    "y_train_pred = grd_boost_reg.predict(X_train_scl)\n",
    "train_evs = explained_variance_score(y_train,y_train_pred) \n",
    "train_mae = mean_absolute_error(y_train,y_train_pred)\n",
    "train_rmse = mean_squared_error(y_train,y_train_pred)**0.5\n",
    "train_r2 = r2_score(y_train,y_train_pred)\n",
    "str1 = '''Training Score:\n",
    "       Explained Variance Score(EVC): %.4f\n",
    "       Mean Absolute Error(MAE): %.2f\n",
    "       Root Mean Squard Error(RMSE): %.2f\n",
    "       R Square(R2): %.4f''' %(train_evs,train_mae,train_rmse,train_r2)\n",
    "print(str1)"
   ]
  },
  {
   "cell_type": "code",
   "execution_count": 64,
   "metadata": {},
   "outputs": [
    {
     "name": "stdout",
     "output_type": "stream",
     "text": [
      "Testing Score:\n",
      "       Explained Variance Score(EVC): 0.8046\n",
      "       Mean Absolute Error(MAE): 2606.67\n",
      "       Root Mean Squard Error(RMSE): 3744.42\n",
      "       R Square(R2): 0.8046\n"
     ]
    }
   ],
   "source": [
    "y_test_pred = grd_boost_reg.predict(X_test_scl)\n",
    "test_evs = explained_variance_score(y_test,y_test_pred) \n",
    "test_mae = mean_absolute_error(y_test,y_test_pred)\n",
    "test_rmse = mean_squared_error(y_test,y_test_pred)**0.5\n",
    "test_r2 = r2_score(y_test,y_test_pred)\n",
    "str1 = '''Testing Score:\n",
    "       Explained Variance Score(EVC): %.4f\n",
    "       Mean Absolute Error(MAE): %.2f\n",
    "       Root Mean Squard Error(RMSE): %.2f\n",
    "       R Square(R2): %.4f''' %(test_evs,test_mae,test_rmse,test_r2)\n",
    "print(str1)"
   ]
  },
  {
   "cell_type": "code",
   "execution_count": null,
   "metadata": {},
   "outputs": [],
   "source": []
  },
  {
   "cell_type": "code",
   "execution_count": null,
   "metadata": {},
   "outputs": [],
   "source": []
  },
  {
   "cell_type": "markdown",
   "metadata": {},
   "source": [
    "## XGBoost\n",
    "https://blog.csdn.net/weixin_41358871/article/details/81541482"
   ]
  },
  {
   "cell_type": "code",
   "execution_count": 70,
   "metadata": {},
   "outputs": [
    {
     "name": "stdout",
     "output_type": "stream",
     "text": [
      "Best score: 0.869\n",
      "Best parameters set: {'learning_rate': 0.1, 'max_depth': 7, 'n_estimators': 140, 'reg_lambda': 0.5}\n",
      "228.7132592201233\n"
     ]
    }
   ],
   "source": [
    "import xgboost as xgb\n",
    "start = time.time()\n",
    "para = {}\n",
    "xgb_cls = xgb.XGBRegressor(objective= 'reg:squarederror',tree_method = 'gpu_hist') \n",
    "parameters = {'n_estimators': [60, 100, 120, 140], \n",
    "              'learning_rate': [0.01, 0.1],\n",
    "              'max_depth': [5, 7],\n",
    "              'reg_lambda': [0.5]}\n",
    "xgb_reg = GridSearchCV(estimator=xgb_cls, param_grid=parameters, cv=5).fit(X_train_scl, y_train)\n",
    "print(\"Best score: %0.3f\" % xgb_reg.best_score_)\n",
    "print(\"Best parameters set:\", xgb_reg.best_params_)\n",
    "end = time.time()\n",
    "print(end-start)"
   ]
  },
  {
   "cell_type": "code",
   "execution_count": 73,
   "metadata": {},
   "outputs": [
    {
     "data": {
      "text/plain": [
       "['XGBoostRegressor.pkl']"
      ]
     },
     "execution_count": 73,
     "metadata": {},
     "output_type": "execute_result"
    }
   ],
   "source": [
    "joblib.dump(xgb_reg,'XGBoostRegressor.pkl')"
   ]
  },
  {
   "cell_type": "code",
   "execution_count": 71,
   "metadata": {},
   "outputs": [
    {
     "name": "stdout",
     "output_type": "stream",
     "text": [
      "Training Score:\n",
      "       Explained Variance Score(EVC): 0.8898\n",
      "       Mean Absolute Error(MAE): 1954.43\n",
      "       Root Mean Squard Error(RMSE): 2836.02\n",
      "       R Square(R2): 0.8898\n"
     ]
    }
   ],
   "source": [
    "y_train_pred = xgb_reg.predict(X_train_scl)\n",
    "train_evs = explained_variance_score(y_train,y_train_pred) \n",
    "train_mae = mean_absolute_error(y_train,y_train_pred)\n",
    "train_rmse = mean_squared_error(y_train,y_train_pred)**0.5\n",
    "train_r2 = r2_score(y_train,y_train_pred)\n",
    "str1 = '''Training Score:\n",
    "       Explained Variance Score(EVC): %.4f\n",
    "       Mean Absolute Error(MAE): %.2f\n",
    "       Root Mean Squard Error(RMSE): %.2f\n",
    "       R Square(R2): %.4f''' %(train_evs,train_mae,train_rmse,train_r2)\n",
    "print(str1)"
   ]
  },
  {
   "cell_type": "code",
   "execution_count": 72,
   "metadata": {},
   "outputs": [
    {
     "name": "stdout",
     "output_type": "stream",
     "text": [
      "Testing Score:\n",
      "       Explained Variance Score(EVC): 0.7188\n",
      "       Mean Absolute Error(MAE): 3196.60\n",
      "       Root Mean Squard Error(RMSE): 4602.66\n",
      "       R Square(R2): 0.7048\n"
     ]
    }
   ],
   "source": [
    "y_test_pred = xgb_reg.predict(X_test_scl)\n",
    "test_evs = explained_variance_score(y_test,y_test_pred) \n",
    "test_mae = mean_absolute_error(y_test,y_test_pred)\n",
    "test_rmse = mean_squared_error(y_test,y_test_pred)**0.5\n",
    "test_r2 = r2_score(y_test,y_test_pred)\n",
    "str1 = '''Testing Score:\n",
    "       Explained Variance Score(EVC): %.4f\n",
    "       Mean Absolute Error(MAE): %.2f\n",
    "       Root Mean Squard Error(RMSE): %.2f\n",
    "       R Square(R2): %.4f''' %(test_evs,test_mae,test_rmse,test_r2)\n",
    "print(str1)"
   ]
  },
  {
   "cell_type": "code",
   "execution_count": null,
   "metadata": {},
   "outputs": [],
   "source": []
  },
  {
   "cell_type": "markdown",
   "metadata": {},
   "source": [
    "# Nueral Network"
   ]
  },
  {
   "cell_type": "code",
   "execution_count": 48,
   "metadata": {
    "scrolled": true
   },
   "outputs": [
    {
     "name": "stdout",
     "output_type": "stream",
     "text": [
      "Fitting 10 folds for each of 18 candidates, totalling 180 fits\n"
     ]
    },
    {
     "name": "stderr",
     "output_type": "stream",
     "text": [
      "[Parallel(n_jobs=1)]: Using backend SequentialBackend with 1 concurrent workers.\n",
      "[Parallel(n_jobs=1)]: Done 180 out of 180 | elapsed: 73.5min finished\n"
     ]
    },
    {
     "name": "stdout",
     "output_type": "stream",
     "text": [
      "Training Time:\n",
      "4465.311811923981\n"
     ]
    }
   ],
   "source": [
    "from sklearn.neural_network import MLPRegressor\n",
    "start = time.time()\n",
    "mlp = MLPRegressor()\n",
    "param_grid = {'hidden_layer_sizes': [i for i in range(2,20)],\n",
    "              'activation': ['relu'],\n",
    "              'solver': ['adam'],\n",
    "              'learning_rate': ['constant'],\n",
    "              'learning_rate_init': [0.01],\n",
    "              'power_t': [0.5],\n",
    "              'alpha': [0.0001],\n",
    "              'max_iter': [1000],\n",
    "              'early_stopping': [True],\n",
    "              'warm_start': [False]}\n",
    "mlp_GS = GridSearchCV(mlp, param_grid=param_grid, \n",
    "                   cv=10, verbose=True, pre_dispatch='2*n_jobs')\n",
    "mlp_GS.fit(X_train_scl, y_train)\n",
    "end = time.time()\n",
    "print('Training Time:')\n",
    "print(end - start)"
   ]
  },
  {
   "cell_type": "code",
   "execution_count": 69,
   "metadata": {},
   "outputs": [
    {
     "data": {
      "text/plain": [
       "['MlPRegressor.pkl']"
      ]
     },
     "execution_count": 69,
     "metadata": {},
     "output_type": "execute_result"
    }
   ],
   "source": [
    "joblib.dump(mlp_GS,'MlPRegressor.pkl')"
   ]
  },
  {
   "cell_type": "markdown",
   "metadata": {},
   "source": [
    "# Ensemble Learning"
   ]
  },
  {
   "cell_type": "markdown",
   "metadata": {},
   "source": [
    "## Bagging "
   ]
  },
  {
   "cell_type": "code",
   "execution_count": 33,
   "metadata": {},
   "outputs": [
    {
     "data": {
      "text/plain": [
       "BaggingRegressor(base_estimator=None, bootstrap=True,\n",
       "         bootstrap_features=False, max_features=1.0, max_samples=1.0,\n",
       "         n_estimators=10, n_jobs=None, oob_score=False, random_state=None,\n",
       "         verbose=0, warm_start=False)"
      ]
     },
     "execution_count": 33,
     "metadata": {},
     "output_type": "execute_result"
    }
   ],
   "source": [
    "from sklearn.ensemble import BaggingRegressor\n",
    "bagging = BaggingRegressor()\n",
    "bagging.fit(X_train_scl, y_train)"
   ]
  },
  {
   "cell_type": "code",
   "execution_count": 34,
   "metadata": {},
   "outputs": [
    {
     "name": "stdout",
     "output_type": "stream",
     "text": [
      "Training Score:\n",
      "       Explained Variance Score(EVC): 0.9092\n",
      "       Mean Absolute Error(MAE): 1625.30\n",
      "       Root Mean Squard Error(RMSE): 2682.44\n",
      "       R Square(R2): 0.9091\n"
     ]
    }
   ],
   "source": [
    "y_train_pred = bagging.predict(X_train_scl)\n",
    "train_evs = explained_variance_score(y_train,y_train_pred) \n",
    "train_mae = mean_absolute_error(y_train,y_train_pred)\n",
    "train_rmse = mean_squared_error(y_train,y_train_pred)**0.5\n",
    "train_r2 = r2_score(y_train,y_train_pred)\n",
    "str1 = '''Training Score:\n",
    "       Explained Variance Score(EVC): %.4f\n",
    "       Mean Absolute Error(MAE): %.2f\n",
    "       Root Mean Squard Error(RMSE): %.2f\n",
    "       R Square(R2): %.4f''' %(train_evs,train_mae,train_rmse,train_r2)\n",
    "print(str1)"
   ]
  },
  {
   "cell_type": "code",
   "execution_count": 36,
   "metadata": {},
   "outputs": [
    {
     "name": "stdout",
     "output_type": "stream",
     "text": [
      "Testing Score:\n",
      "       Explained Variance Score(EVC): 0.7153\n",
      "       Mean Absolute Error(MAE): 3227.37\n",
      "       Root Mean Squard Error(RMSE): 4795.71\n",
      "       R Square(R2): 0.7153\n"
     ]
    }
   ],
   "source": [
    "y_test_pred = bagging.predict(X_test_scl)\n",
    "test_evs = explained_variance_score(y_test,y_test_pred) \n",
    "test_mae = mean_absolute_error(y_test,y_test_pred)\n",
    "test_rmse = mean_squared_error(y_test,y_test_pred)**0.5\n",
    "test_r2 = r2_score(y_test,y_test_pred)\n",
    "str1 = '''Testing Score:\n",
    "       Explained Variance Score(EVC): %.4f\n",
    "       Mean Absolute Error(MAE): %.2f\n",
    "       Root Mean Squard Error(RMSE): %.2f\n",
    "       R Square(R2): %.4f''' %(test_evs,test_mae,test_rmse,test_r2)\n",
    "print(str1)"
   ]
  },
  {
   "cell_type": "code",
   "execution_count": null,
   "metadata": {},
   "outputs": [],
   "source": []
  },
  {
   "cell_type": "markdown",
   "metadata": {},
   "source": [
    "## AdaBoost"
   ]
  },
  {
   "cell_type": "code",
   "execution_count": 37,
   "metadata": {},
   "outputs": [
    {
     "data": {
      "text/plain": [
       "AdaBoostRegressor(base_estimator=None, learning_rate=1.0, loss='linear',\n",
       "         n_estimators=50, random_state=None)"
      ]
     },
     "execution_count": 37,
     "metadata": {},
     "output_type": "execute_result"
    }
   ],
   "source": [
    "from sklearn.ensemble import AdaBoostRegressor\n",
    "Ada_Boost = AdaBoostRegressor()\n",
    "Ada_Boost.fit(X_train_scl, y_train)"
   ]
  },
  {
   "cell_type": "code",
   "execution_count": 39,
   "metadata": {},
   "outputs": [
    {
     "name": "stdout",
     "output_type": "stream",
     "text": [
      "Training Score:\n",
      "       Explained Variance Score(EVC): 0.5148\n",
      "       Mean Absolute Error(MAE): 5516.57\n",
      "       Root Mean Squard Error(RMSE): 6597.94\n",
      "       R Square(R2): 0.4503\n"
     ]
    }
   ],
   "source": [
    "y_train_pred = Ada_Boost.predict(X_train_scl)\n",
    "train_evs = explained_variance_score(y_train,y_train_pred) \n",
    "train_mae = mean_absolute_error(y_train,y_train_pred)\n",
    "train_rmse = mean_squared_error(y_train,y_train_pred)**0.5\n",
    "train_r2 = r2_score(y_train,y_train_pred)\n",
    "str1 = '''Training Score:\n",
    "       Explained Variance Score(EVC): %.4f\n",
    "       Mean Absolute Error(MAE): %.2f\n",
    "       Root Mean Squard Error(RMSE): %.2f\n",
    "       R Square(R2): %.4f''' %(train_evs,train_mae,train_rmse,train_r2)\n",
    "print(str1)"
   ]
  },
  {
   "cell_type": "code",
   "execution_count": 40,
   "metadata": {},
   "outputs": [
    {
     "name": "stdout",
     "output_type": "stream",
     "text": [
      "Testing Score:\n",
      "       Explained Variance Score(EVC): 0.5087\n",
      "       Mean Absolute Error(MAE): 5572.93\n",
      "       Root Mean Squard Error(RMSE): 6669.31\n",
      "       R Square(R2): 0.4493\n"
     ]
    }
   ],
   "source": [
    "y_test_pred = Ada_Boost.predict(X_test_scl)\n",
    "test_evs = explained_variance_score(y_test,y_test_pred) \n",
    "test_mae = mean_absolute_error(y_test,y_test_pred)\n",
    "test_rmse = mean_squared_error(y_test,y_test_pred)**0.5\n",
    "test_r2 = r2_score(y_test,y_test_pred)\n",
    "str1 = '''Testing Score:\n",
    "       Explained Variance Score(EVC): %.4f\n",
    "       Mean Absolute Error(MAE): %.2f\n",
    "       Root Mean Squard Error(RMSE): %.2f\n",
    "       R Square(R2): %.4f''' %(test_evs,test_mae,test_rmse,test_r2)\n",
    "print(str1)"
   ]
  }
 ],
 "metadata": {
  "kernelspec": {
   "display_name": "Python 3.7 (Machine Learning)",
   "language": "python",
   "name": "machinelearning"
  },
  "language_info": {
   "codemirror_mode": {
    "name": "ipython",
    "version": 3
   },
   "file_extension": ".py",
   "mimetype": "text/x-python",
   "name": "python",
   "nbconvert_exporter": "python",
   "pygments_lexer": "ipython3",
   "version": "3.7.7"
  }
 },
 "nbformat": 4,
 "nbformat_minor": 4
}
