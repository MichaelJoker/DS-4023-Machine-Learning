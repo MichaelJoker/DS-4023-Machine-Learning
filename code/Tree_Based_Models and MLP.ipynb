{
 "cells": [
  {
   "cell_type": "markdown",
   "metadata": {},
   "source": [
    "# Tree_based and MLP\n",
    "This file use the pre-trained models based on the given dataset\\\n",
    "the training set and testing set can be download from:\n",
    "链接：https://pan.baidu.com/s/1kAaUdxbMGZVwhPULqNKauw \n",
    "提取码：xi32"
   ]
  },
  {
   "cell_type": "code",
   "execution_count": 1,
   "metadata": {},
   "outputs": [],
   "source": [
    "from sklearn.externals import joblib\n",
    "import pandas as pd\n",
    "import numpy as np\n",
    "import warnings\n",
    "from sklearn.metrics import explained_variance_score,mean_absolute_error,mean_squared_error,r2_score\n",
    "warnings.filterwarnings('ignore')"
   ]
  },
  {
   "cell_type": "code",
   "execution_count": 4,
   "metadata": {},
   "outputs": [],
   "source": [
    "train = pd.read_csv('train.csv')\n",
    "test = pd.read_csv('test.csv')"
   ]
  },
  {
   "cell_type": "code",
   "execution_count": 17,
   "metadata": {},
   "outputs": [],
   "source": [
    "X_train_scl = train.drop(columns='price',axis = 1)\n",
    "y_train = train['price']\n",
    "X_test_scl = test.drop(columns='price',axis = 1)\n",
    "y_test = test['price']"
   ]
  },
  {
   "cell_type": "code",
   "execution_count": 15,
   "metadata": {},
   "outputs": [],
   "source": [
    "# define the evaluation index\n",
    "from sklearn import metrics\n",
    "from sklearn.metrics import explained_variance_score, mean_absolute_error, mean_squared_error, r2_score\n",
    "# to store the scores in the form of (train_score,test_score)\n",
    "evs = []\n",
    "mae = []\n",
    "rmse = []\n",
    "r2 = []\n",
    "model_names = []"
   ]
  },
  {
   "cell_type": "markdown",
   "metadata": {},
   "source": [
    "## MLPRegressor\n",
    "You can download from: \n",
    "链接：https://pan.baidu.com/s/18pBgAkH06-_rL_-9pBR8_w \n",
    "提取码：1y0g"
   ]
  },
  {
   "cell_type": "code",
   "execution_count": 11,
   "metadata": {},
   "outputs": [],
   "source": [
    "mlp = joblib.load('MlPRegressor.pkl')"
   ]
  },
  {
   "cell_type": "code",
   "execution_count": 12,
   "metadata": {},
   "outputs": [
    {
     "data": {
      "text/plain": [
       "{'activation': 'relu',\n",
       " 'alpha': 0.0001,\n",
       " 'early_stopping': True,\n",
       " 'hidden_layer_sizes': 19,\n",
       " 'learning_rate': 'constant',\n",
       " 'learning_rate_init': 0.01,\n",
       " 'max_iter': 1000,\n",
       " 'power_t': 0.5,\n",
       " 'solver': 'adam',\n",
       " 'warm_start': False}"
      ]
     },
     "execution_count": 12,
     "metadata": {},
     "output_type": "execute_result"
    }
   ],
   "source": [
    "mlp.best_params_"
   ]
  },
  {
   "cell_type": "code",
   "execution_count": 18,
   "metadata": {},
   "outputs": [
    {
     "name": "stdout",
     "output_type": "stream",
     "text": [
      "Training Score:\n",
      "       Explained Variance Score(EVC): 0.7864\n",
      "       Mean Absolute Error(MAE): 2765.90\n",
      "       Root Mean Squard Error(RMSE): 3949.10\n",
      "       R Square(R2): 0.7864\n"
     ]
    }
   ],
   "source": [
    "y_train_pred = mlp.predict(X_train_scl)\n",
    "train_evs = explained_variance_score(y_train,y_train_pred) \n",
    "train_mae = mean_absolute_error(y_train,y_train_pred)\n",
    "train_rmse = mean_squared_error(y_train,y_train_pred)**0.5\n",
    "train_r2 = r2_score(y_train,y_train_pred)\n",
    "str1 = '''Training Score:\n",
    "       Explained Variance Score(EVC): %.4f\n",
    "       Mean Absolute Error(MAE): %.2f\n",
    "       Root Mean Squard Error(RMSE): %.2f\n",
    "       R Square(R2): %.4f''' %(train_evs,train_mae,train_rmse,train_r2)\n",
    "print(str1)"
   ]
  },
  {
   "cell_type": "code",
   "execution_count": 19,
   "metadata": {},
   "outputs": [
    {
     "name": "stdout",
     "output_type": "stream",
     "text": [
      "Testing Score:\n",
      "       Explained Variance Score(EVC): 0.7782\n",
      "       Mean Absolute Error(MAE): 2777.04\n",
      "       Root Mean Squard Error(RMSE): 3989.17\n",
      "       R Square(R2): 0.7782\n"
     ]
    }
   ],
   "source": [
    "y_test_pred = mlp.predict(X_test_scl)\n",
    "test_evs = explained_variance_score(y_test,y_test_pred) \n",
    "test_mae = mean_absolute_error(y_test,y_test_pred)\n",
    "test_rmse = mean_squared_error(y_test,y_test_pred)**0.5\n",
    "test_r2 = r2_score(y_test,y_test_pred)\n",
    "str1 = '''Testing Score:\n",
    "       Explained Variance Score(EVC): %.4f\n",
    "       Mean Absolute Error(MAE): %.2f\n",
    "       Root Mean Squard Error(RMSE): %.2f\n",
    "       R Square(R2): %.4f''' %(test_evs,test_mae,test_rmse,test_r2)\n",
    "print(str1)"
   ]
  },
  {
   "cell_type": "code",
   "execution_count": 16,
   "metadata": {},
   "outputs": [],
   "source": [
    "# add results\n",
    "model_names.append('MLP')\n",
    "evs.append((train_evs,test_evs))\n",
    "mae.append((train_mae,test_mae))\n",
    "rmse.append((train_rmse,test_rmse))\n",
    "r2.append((train_r2,test_r2))"
   ]
  },
  {
   "cell_type": "markdown",
   "metadata": {},
   "source": [
    "## Decision Tree"
   ]
  },
  {
   "cell_type": "code",
   "execution_count": 20,
   "metadata": {},
   "outputs": [
    {
     "data": {
      "text/plain": [
       "DecisionTreeRegressor(criterion='mse', max_depth=10, max_features='auto',\n",
       "           max_leaf_nodes=None, min_impurity_decrease=0.0,\n",
       "           min_impurity_split=None, min_samples_leaf=1,\n",
       "           min_samples_split=2, min_weight_fraction_leaf=0.0,\n",
       "           presort=False, random_state=None, splitter='best')"
      ]
     },
     "execution_count": 20,
     "metadata": {},
     "output_type": "execute_result"
    }
   ],
   "source": [
    "from sklearn.tree import DecisionTreeRegressor\n",
    "dt = DecisionTreeRegressor(max_depth=10,max_features='auto')\n",
    "dt.fit(X_train_scl,y_train)"
   ]
  },
  {
   "cell_type": "code",
   "execution_count": 21,
   "metadata": {},
   "outputs": [
    {
     "name": "stdout",
     "output_type": "stream",
     "text": [
      "Training Score:\n",
      "       Explained Variance Score(EVC): 0.8326\n",
      "       Mean Absolute Error(MAE): 2464.94\n",
      "       Root Mean Squard Error(RMSE): 3496.42\n",
      "       R Square(R2): 0.8326\n",
      "Testing Score:\n",
      "       Explained Variance Score(EVC): 0.8003\n",
      "       Mean Absolute Error(MAE): 2628.08\n",
      "       Root Mean Squard Error(RMSE): 3785.55\n",
      "       R Square(R2): 0.8003\n"
     ]
    }
   ],
   "source": [
    "y_train_pred = dt.predict(X_train_scl)\n",
    "train_evs = explained_variance_score(y_train,y_train_pred) \n",
    "train_mae = mean_absolute_error(y_train,y_train_pred)\n",
    "train_rmse = mean_squared_error(y_train,y_train_pred)**0.5\n",
    "train_r2 = r2_score(y_train,y_train_pred)\n",
    "str1 = '''Training Score:\n",
    "       Explained Variance Score(EVC): %.4f\n",
    "       Mean Absolute Error(MAE): %.2f\n",
    "       Root Mean Squard Error(RMSE): %.2f\n",
    "       R Square(R2): %.4f''' %(train_evs,train_mae,train_rmse,train_r2)\n",
    "print(str1)\n",
    "\n",
    "y_test_pred = dt.predict(X_test_scl)\n",
    "test_evs = explained_variance_score(y_test,y_test_pred) \n",
    "test_mae = mean_absolute_error(y_test,y_test_pred)\n",
    "test_rmse = mean_squared_error(y_test,y_test_pred)**0.5\n",
    "test_r2 = r2_score(y_test,y_test_pred)\n",
    "str1 = '''Testing Score:\n",
    "       Explained Variance Score(EVC): %.4f\n",
    "       Mean Absolute Error(MAE): %.2f\n",
    "       Root Mean Squard Error(RMSE): %.2f\n",
    "       R Square(R2): %.4f''' %(test_evs,test_mae,test_rmse,test_r2)\n",
    "print(str1)"
   ]
  },
  {
   "cell_type": "code",
   "execution_count": 22,
   "metadata": {},
   "outputs": [],
   "source": [
    "# add results\n",
    "model_names.append('Decision Tree')\n",
    "evs.append((train_evs,test_evs))\n",
    "mae.append((train_mae,test_mae))\n",
    "rmse.append((train_rmse,test_rmse))\n",
    "r2.append((train_r2,test_r2))"
   ]
  },
  {
   "cell_type": "markdown",
   "metadata": {},
   "source": [
    "## Random Forest\n",
    "链接：https://pan.baidu.com/s/1y_TwDAWggbUkRjBc2_QYfw \n",
    "提取码：3ufz "
   ]
  },
  {
   "cell_type": "code",
   "execution_count": 24,
   "metadata": {},
   "outputs": [],
   "source": [
    "rf = joblib.load('RandomeForest.pkl')"
   ]
  },
  {
   "cell_type": "code",
   "execution_count": 26,
   "metadata": {},
   "outputs": [
    {
     "data": {
      "text/plain": [
       "RandomForestRegressor(bootstrap=True, criterion='mse', max_depth=20,\n",
       "           max_features='auto', max_leaf_nodes=None,\n",
       "           min_impurity_decrease=0.0, min_impurity_split=None,\n",
       "           min_samples_leaf=1, min_samples_split=2,\n",
       "           min_weight_fraction_leaf=0.0, n_estimators=300, n_jobs=None,\n",
       "           oob_score=False, random_state=None, verbose=0, warm_start=False)"
      ]
     },
     "execution_count": 26,
     "metadata": {},
     "output_type": "execute_result"
    }
   ],
   "source": [
    "rf.best_estimator_"
   ]
  },
  {
   "cell_type": "code",
   "execution_count": 27,
   "metadata": {},
   "outputs": [
    {
     "name": "stdout",
     "output_type": "stream",
     "text": [
      "Training Score:\n",
      "       Explained Variance Score(EVC): 0.9746\n",
      "       Mean Absolute Error(MAE): 889.43\n",
      "       Root Mean Squard Error(RMSE): 1362.40\n",
      "       R Square(R2): 0.9746\n",
      "Testing Score:\n",
      "       Explained Variance Score(EVC): 0.8657\n",
      "       Mean Absolute Error(MAE): 2012.86\n",
      "       Root Mean Squard Error(RMSE): 3104.29\n",
      "       R Square(R2): 0.8657\n"
     ]
    }
   ],
   "source": [
    "y_train_pred = rf.predict(X_train_scl)\n",
    "train_evs = explained_variance_score(y_train,y_train_pred) \n",
    "train_mae = mean_absolute_error(y_train,y_train_pred)\n",
    "train_rmse = mean_squared_error(y_train,y_train_pred)**0.5\n",
    "train_r2 = r2_score(y_train,y_train_pred)\n",
    "str1 = '''Training Score:\n",
    "       Explained Variance Score(EVC): %.4f\n",
    "       Mean Absolute Error(MAE): %.2f\n",
    "       Root Mean Squard Error(RMSE): %.2f\n",
    "       R Square(R2): %.4f''' %(train_evs,train_mae,train_rmse,train_r2)\n",
    "print(str1)\n",
    "\n",
    "y_test_pred = rf.predict(X_test_scl)\n",
    "test_evs = explained_variance_score(y_test,y_test_pred) \n",
    "test_mae = mean_absolute_error(y_test,y_test_pred)\n",
    "test_rmse = mean_squared_error(y_test,y_test_pred)**0.5\n",
    "test_r2 = r2_score(y_test,y_test_pred)\n",
    "str1 = '''Testing Score:\n",
    "       Explained Variance Score(EVC): %.4f\n",
    "       Mean Absolute Error(MAE): %.2f\n",
    "       Root Mean Squard Error(RMSE): %.2f\n",
    "       R Square(R2): %.4f''' %(test_evs,test_mae,test_rmse,test_r2)\n",
    "print(str1)"
   ]
  },
  {
   "cell_type": "code",
   "execution_count": 28,
   "metadata": {},
   "outputs": [],
   "source": [
    "# add results\n",
    "model_names.append('Random Forest')\n",
    "evs.append((train_evs,test_evs))\n",
    "mae.append((train_mae,test_mae))\n",
    "rmse.append((train_rmse,test_rmse))\n",
    "r2.append((train_r2,test_r2))"
   ]
  },
  {
   "cell_type": "markdown",
   "metadata": {},
   "source": [
    "## Gradient Boosting\n",
    "链接：https://pan.baidu.com/s/13-4CFr1mw3ut1FsDJD-ISA \n",
    "提取码：tca5"
   ]
  },
  {
   "cell_type": "code",
   "execution_count": 29,
   "metadata": {},
   "outputs": [],
   "source": [
    "gb = joblib.load('GradientBoostingRegressor.pkl')"
   ]
  },
  {
   "cell_type": "code",
   "execution_count": 32,
   "metadata": {},
   "outputs": [
    {
     "data": {
      "text/plain": [
       "<bound method BaseEstimator.get_params of GradientBoostingRegressor(alpha=0.9, criterion='friedman_mse', init=None,\n",
       "             learning_rate=0.1, loss='ls', max_depth=2, max_features=None,\n",
       "             max_leaf_nodes=None, min_impurity_decrease=0.0,\n",
       "             min_impurity_split=None, min_samples_leaf=1,\n",
       "             min_samples_split=2, min_weight_fraction_leaf=0.0,\n",
       "             n_estimators=338, n_iter_no_change=None, presort='auto',\n",
       "             random_state=None, subsample=1.0, tol=0.0001,\n",
       "             validation_fraction=0.1, verbose=0, warm_start=False)>"
      ]
     },
     "execution_count": 32,
     "metadata": {},
     "output_type": "execute_result"
    }
   ],
   "source": [
    "gb.get_params"
   ]
  },
  {
   "cell_type": "code",
   "execution_count": 33,
   "metadata": {},
   "outputs": [
    {
     "name": "stdout",
     "output_type": "stream",
     "text": [
      "Training Score:\n",
      "       Explained Variance Score(EVC): 0.8193\n",
      "       Mean Absolute Error(MAE): 2548.04\n",
      "       Root Mean Squard Error(RMSE): 3632.09\n",
      "       R Square(R2): 0.8193\n",
      "Testing Score:\n",
      "       Explained Variance Score(EVC): 0.8046\n",
      "       Mean Absolute Error(MAE): 2606.67\n",
      "       Root Mean Squard Error(RMSE): 3744.42\n",
      "       R Square(R2): 0.8046\n"
     ]
    }
   ],
   "source": [
    "y_train_pred = gb.predict(X_train_scl)\n",
    "train_evs = explained_variance_score(y_train,y_train_pred) \n",
    "train_mae = mean_absolute_error(y_train,y_train_pred)\n",
    "train_rmse = mean_squared_error(y_train,y_train_pred)**0.5\n",
    "train_r2 = r2_score(y_train,y_train_pred)\n",
    "str1 = '''Training Score:\n",
    "       Explained Variance Score(EVC): %.4f\n",
    "       Mean Absolute Error(MAE): %.2f\n",
    "       Root Mean Squard Error(RMSE): %.2f\n",
    "       R Square(R2): %.4f''' %(train_evs,train_mae,train_rmse,train_r2)\n",
    "print(str1)\n",
    "\n",
    "y_test_pred = gb.predict(X_test_scl)\n",
    "test_evs = explained_variance_score(y_test,y_test_pred) \n",
    "test_mae = mean_absolute_error(y_test,y_test_pred)\n",
    "test_rmse = mean_squared_error(y_test,y_test_pred)**0.5\n",
    "test_r2 = r2_score(y_test,y_test_pred)\n",
    "str1 = '''Testing Score:\n",
    "       Explained Variance Score(EVC): %.4f\n",
    "       Mean Absolute Error(MAE): %.2f\n",
    "       Root Mean Squard Error(RMSE): %.2f\n",
    "       R Square(R2): %.4f''' %(test_evs,test_mae,test_rmse,test_r2)\n",
    "print(str1)"
   ]
  },
  {
   "cell_type": "code",
   "execution_count": 34,
   "metadata": {},
   "outputs": [],
   "source": [
    "# add results\n",
    "model_names.append('Gradient Boosting')\n",
    "evs.append((train_evs,test_evs))\n",
    "mae.append((train_mae,test_mae))\n",
    "rmse.append((train_rmse,test_rmse))\n",
    "r2.append((train_r2,test_r2))"
   ]
  },
  {
   "cell_type": "markdown",
   "metadata": {},
   "source": [
    "## XGBoost\n",
    "链接：https://pan.baidu.com/s/14tqOTEvLh27wSAjf7haeQQ \n",
    "提取码：ul4m"
   ]
  },
  {
   "cell_type": "code",
   "execution_count": 35,
   "metadata": {},
   "outputs": [],
   "source": [
    "xgb = joblib.load('XGBoostRegressor.pkl')"
   ]
  },
  {
   "cell_type": "code",
   "execution_count": 36,
   "metadata": {},
   "outputs": [
    {
     "data": {
      "text/plain": [
       "XGBRegressor(base_score=0.5, booster='gbtree', colsample_bylevel=1,\n",
       "       colsample_bynode=1, colsample_bytree=1, gamma=0, gpu_id=0,\n",
       "       importance_type='gain', interaction_constraints='',\n",
       "       learning_rate=0.1, max_delta_step=0, max_depth=7,\n",
       "       min_child_weight=1, missing=nan,\n",
       "       monotone_constraints='(0,0,0,0,0,0,0,0,0,0)', n_estimators=140,\n",
       "       n_jobs=0, num_parallel_tree=1, objective='reg:squarederror',\n",
       "       random_state=0, reg_alpha=0, reg_lambda=0.5, scale_pos_weight=1,\n",
       "       subsample=1, tree_method='gpu_hist', validate_parameters=1,\n",
       "       verbosity=None)"
      ]
     },
     "execution_count": 36,
     "metadata": {},
     "output_type": "execute_result"
    }
   ],
   "source": [
    "xgb.best_estimator_"
   ]
  },
  {
   "cell_type": "code",
   "execution_count": 37,
   "metadata": {},
   "outputs": [
    {
     "name": "stdout",
     "output_type": "stream",
     "text": [
      "Training Score:\n",
      "       Explained Variance Score(EVC): 0.8898\n",
      "       Mean Absolute Error(MAE): 1954.43\n",
      "       Root Mean Squard Error(RMSE): 2836.02\n",
      "       R Square(R2): 0.8898\n",
      "Testing Score:\n",
      "       Explained Variance Score(EVC): 0.7188\n",
      "       Mean Absolute Error(MAE): 3196.60\n",
      "       Root Mean Squard Error(RMSE): 4602.66\n",
      "       R Square(R2): 0.7048\n"
     ]
    }
   ],
   "source": [
    "y_train_pred = xgb.predict(X_train_scl)\n",
    "train_evs = explained_variance_score(y_train,y_train_pred) \n",
    "train_mae = mean_absolute_error(y_train,y_train_pred)\n",
    "train_rmse = mean_squared_error(y_train,y_train_pred)**0.5\n",
    "train_r2 = r2_score(y_train,y_train_pred)\n",
    "str1 = '''Training Score:\n",
    "       Explained Variance Score(EVC): %.4f\n",
    "       Mean Absolute Error(MAE): %.2f\n",
    "       Root Mean Squard Error(RMSE): %.2f\n",
    "       R Square(R2): %.4f''' %(train_evs,train_mae,train_rmse,train_r2)\n",
    "print(str1)\n",
    "\n",
    "y_test_pred = xgb.predict(X_test_scl)\n",
    "test_evs = explained_variance_score(y_test,y_test_pred) \n",
    "test_mae = mean_absolute_error(y_test,y_test_pred)\n",
    "test_rmse = mean_squared_error(y_test,y_test_pred)**0.5\n",
    "test_r2 = r2_score(y_test,y_test_pred)\n",
    "str1 = '''Testing Score:\n",
    "       Explained Variance Score(EVC): %.4f\n",
    "       Mean Absolute Error(MAE): %.2f\n",
    "       Root Mean Squard Error(RMSE): %.2f\n",
    "       R Square(R2): %.4f''' %(test_evs,test_mae,test_rmse,test_r2)\n",
    "print(str1)"
   ]
  },
  {
   "cell_type": "code",
   "execution_count": 38,
   "metadata": {},
   "outputs": [],
   "source": [
    "# add results\n",
    "model_names.append('XGBoost')\n",
    "evs.append((train_evs,test_evs))\n",
    "mae.append((train_mae,test_mae))\n",
    "rmse.append((train_rmse,test_rmse))\n",
    "r2.append((train_r2,test_r2))"
   ]
  },
  {
   "cell_type": "code",
   "execution_count": 41,
   "metadata": {},
   "outputs": [
    {
     "data": {
      "text/plain": [
       "['tree_nn.pkl']"
      ]
     },
     "execution_count": 41,
     "metadata": {},
     "output_type": "execute_result"
    }
   ],
   "source": [
    "dic = {'model_names':model_names,\n",
    "      'evs': evs,\n",
    "       'mae': mae,\n",
    "      'rmse': rmse,\n",
    "      'r2': r2}\n",
    "joblib.dump(dic,'tree_nn.pkl')"
   ]
  }
 ],
 "metadata": {
  "kernelspec": {
   "display_name": "Python 3.7 (Machine Learning)",
   "language": "python",
   "name": "machinelearning"
  },
  "language_info": {
   "codemirror_mode": {
    "name": "ipython",
    "version": 3
   },
   "file_extension": ".py",
   "mimetype": "text/x-python",
   "name": "python",
   "nbconvert_exporter": "python",
   "pygments_lexer": "ipython3",
   "version": "3.7.7"
  }
 },
 "nbformat": 4,
 "nbformat_minor": 4
}
