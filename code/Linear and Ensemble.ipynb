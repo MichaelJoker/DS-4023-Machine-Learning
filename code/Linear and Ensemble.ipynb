{
 "cells": [
  {
   "cell_type": "markdown",
   "metadata": {},
   "source": [
    "# Linear Models and Ensemble Learning \n",
    "This ipynb files aims at getting the scores of linear models and Ensemble Learning based on scikit-learn verion >0.21\n",
    "The method is:\\\n",
    "Consider the outputs from Linear regres-sion, SDGRegressor and ridge regressor as input for thesecond models. Then using pretrained models RandomForest and MLP Regressor respectively as second models to predict the values\\\n",
    "the training set and testing set can be download from:\n",
    "链接：https://pan.baidu.com/s/1kAaUdxbMGZVwhPULqNKauw \n",
    "提取码：xi32"
   ]
  },
  {
   "cell_type": "code",
   "execution_count": 79,
   "metadata": {},
   "outputs": [],
   "source": [
    "import numpy as np\n",
    "import pandas as pd\n",
    "from sklearn.externals import joblib\n",
    "from sklearn.model_selection import GridSearchCV\n",
    "import warnings\n",
    "import time\n",
    "warnings.filterwarnings('ignore')"
   ]
  },
  {
   "cell_type": "code",
   "execution_count": 80,
   "metadata": {},
   "outputs": [],
   "source": [
    "train = pd.read_csv('train.csv')\n",
    "test = pd.read_csv('test.csv')"
   ]
  },
  {
   "cell_type": "code",
   "execution_count": 81,
   "metadata": {},
   "outputs": [
    {
     "data": {
      "text/plain": [
       "((80000, 10), (80000,), (20000, 10), (20000,))"
      ]
     },
     "execution_count": 81,
     "metadata": {},
     "output_type": "execute_result"
    }
   ],
   "source": [
    "# used pre-stored training and testing dataset\n",
    "X_train_scl = train.drop(columns='price',axis = 1)\n",
    "y_train = train['price']\n",
    "X_test_scl = test.drop(columns='price',axis = 1)\n",
    "y_test = test['price']\n",
    "X_train_scl.shape, y_train.shape, X_test_scl.shape, y_test.shape"
   ]
  },
  {
   "cell_type": "markdown",
   "metadata": {},
   "source": [
    "# import evaluation index"
   ]
  },
  {
   "cell_type": "code",
   "execution_count": 82,
   "metadata": {},
   "outputs": [],
   "source": [
    "# define the evaluation index\n",
    "from sklearn import metrics\n",
    "from sklearn.metrics import explained_variance_score, mean_absolute_error, mean_squared_error, r2_score\n",
    "# to store the scores in the form of (train_score,test_score)\n",
    "evs = []\n",
    "mae = []\n",
    "rmse = []\n",
    "r2 = []\n",
    "model_names = []"
   ]
  },
  {
   "cell_type": "markdown",
   "metadata": {},
   "source": [
    "# Linear Regression"
   ]
  },
  {
   "cell_type": "code",
   "execution_count": 83,
   "metadata": {},
   "outputs": [
    {
     "data": {
      "text/plain": [
       "LinearRegression(copy_X=True, fit_intercept=True, n_jobs=None, normalize=False)"
      ]
     },
     "execution_count": 83,
     "metadata": {},
     "output_type": "execute_result"
    }
   ],
   "source": [
    "# training for Linear Regresion Model\n",
    "from sklearn.linear_model import LinearRegression\n",
    "lr = LinearRegression()\n",
    "lr.fit(X_train_scl,y_train)"
   ]
  },
  {
   "cell_type": "code",
   "execution_count": 84,
   "metadata": {},
   "outputs": [
    {
     "name": "stdout",
     "output_type": "stream",
     "text": [
      "Training Score:\n",
      "       Explained Variance Score(EVC): 0.3853\n",
      "       Mean Absolute Error(MAE): 4859.83\n",
      "       Root Mean Squard Error(RMSE): 6699.26\n",
      "       R Square(R2): 0.3853\n"
     ]
    }
   ],
   "source": [
    "y_train_pred = lr.predict(X_train_scl)\n",
    "train_evs = explained_variance_score(y_train,y_train_pred) \n",
    "train_mae = mean_absolute_error(y_train,y_train_pred)\n",
    "train_rmse = mean_squared_error(y_train,y_train_pred)**0.5\n",
    "train_r2 = r2_score(y_train,y_train_pred)\n",
    "str1 = '''Training Score:\n",
    "       Explained Variance Score(EVC): %.4f\n",
    "       Mean Absolute Error(MAE): %.2f\n",
    "       Root Mean Squard Error(RMSE): %.2f\n",
    "       R Square(R2): %.4f''' %(train_evs,train_mae,train_rmse,train_r2)\n",
    "print(str1)"
   ]
  },
  {
   "cell_type": "code",
   "execution_count": 85,
   "metadata": {},
   "outputs": [
    {
     "name": "stdout",
     "output_type": "stream",
     "text": [
      "Testing Score:\n",
      "       Explained Variance Score(EVC): 0.3469\n",
      "       Mean Absolute Error(MAE): 4940.68\n",
      "       Root Mean Squard Error(RMSE): 6846.84\n",
      "       R Square(R2): 0.3467\n"
     ]
    }
   ],
   "source": [
    "y_test_pred = lr.predict(X_test_scl)\n",
    "test_evs = explained_variance_score(y_test,y_test_pred) \n",
    "test_mae = mean_absolute_error(y_test,y_test_pred)\n",
    "test_rmse = mean_squared_error(y_test,y_test_pred)**0.5\n",
    "test_r2 = r2_score(y_test,y_test_pred)\n",
    "str1 = '''Testing Score:\n",
    "       Explained Variance Score(EVC): %.4f\n",
    "       Mean Absolute Error(MAE): %.2f\n",
    "       Root Mean Squard Error(RMSE): %.2f\n",
    "       R Square(R2): %.4f''' %(test_evs,test_mae,test_rmse,test_r2)\n",
    "print(str1)"
   ]
  },
  {
   "cell_type": "code",
   "execution_count": 86,
   "metadata": {},
   "outputs": [],
   "source": [
    "# add results\n",
    "model_names.append('Linear Regression')\n",
    "evs.append((train_evs,test_evs))\n",
    "mae.append((train_mae,test_mae))\n",
    "rmse.append((train_rmse,test_rmse))\n",
    "r2.append((train_r2,test_r2))"
   ]
  },
  {
   "cell_type": "markdown",
   "metadata": {},
   "source": [
    "# Support Vector Machine"
   ]
  },
  {
   "cell_type": "code",
   "execution_count": 87,
   "metadata": {},
   "outputs": [
    {
     "data": {
      "text/plain": [
       "LinearSVR(C=3.3, dual=True, epsilon=0.0, fit_intercept=True,\n",
       "          intercept_scaling=1.0, loss='epsilon_insensitive', max_iter=1000,\n",
       "          random_state=None, tol=0.0001, verbose=0)"
      ]
     },
     "execution_count": 87,
     "metadata": {},
     "output_type": "execute_result"
    }
   ],
   "source": [
    "from sklearn.svm import LinearSVR\n",
    "# C is 3.3, perfomance better\n",
    "svr = LinearSVR(C = 3.3)\n",
    "svr.fit(X_train_scl,y_train)"
   ]
  },
  {
   "cell_type": "code",
   "execution_count": 88,
   "metadata": {},
   "outputs": [
    {
     "name": "stdout",
     "output_type": "stream",
     "text": [
      "Training Score:\n",
      "       Explained Variance Score(EVC): 0.2366\n",
      "       Mean Absolute Error(MAE): 4341.66\n",
      "       Root Mean Squard Error(RMSE): 7624.80\n",
      "       R Square(R2): 0.2037\n"
     ]
    }
   ],
   "source": [
    "y_train_pred = svr.predict(X_train_scl)\n",
    "train_evs = explained_variance_score(y_train,y_train_pred) \n",
    "train_mae = mean_absolute_error(y_train,y_train_pred)\n",
    "train_rmse = mean_squared_error(y_train,y_train_pred)**0.5\n",
    "train_r2 = r2_score(y_train,y_train_pred)\n",
    "str1 = '''Training Score:\n",
    "       Explained Variance Score(EVC): %.4f\n",
    "       Mean Absolute Error(MAE): %.2f\n",
    "       Root Mean Squard Error(RMSE): %.2f\n",
    "       R Square(R2): %.4f''' %(train_evs,train_mae,train_rmse,train_r2)\n",
    "print(str1)"
   ]
  },
  {
   "cell_type": "code",
   "execution_count": 89,
   "metadata": {},
   "outputs": [
    {
     "name": "stdout",
     "output_type": "stream",
     "text": [
      "Testing Score:\n",
      "       Explained Variance Score(EVC): 0.1712\n",
      "       Mean Absolute Error(MAE): 4375.65\n",
      "       Root Mean Squard Error(RMSE): 7839.59\n",
      "       R Square(R2): 0.1435\n"
     ]
    }
   ],
   "source": [
    "y_test_pred = svr.predict(X_test_scl)\n",
    "test_evs = explained_variance_score(y_test,y_test_pred) \n",
    "test_mae = mean_absolute_error(y_test,y_test_pred)\n",
    "test_rmse = mean_squared_error(y_test,y_test_pred)**0.5\n",
    "test_r2 = r2_score(y_test,y_test_pred)\n",
    "str1 = '''Testing Score:\n",
    "       Explained Variance Score(EVC): %.4f\n",
    "       Mean Absolute Error(MAE): %.2f\n",
    "       Root Mean Squard Error(RMSE): %.2f\n",
    "       R Square(R2): %.4f''' %(test_evs,test_mae,test_rmse,test_r2)\n",
    "print(str1)"
   ]
  },
  {
   "cell_type": "code",
   "execution_count": 90,
   "metadata": {},
   "outputs": [],
   "source": [
    "# add results\n",
    "model_names.append('LinearSVR')\n",
    "evs.append((train_evs,test_evs))\n",
    "mae.append((train_mae,test_mae))\n",
    "rmse.append((train_rmse,test_rmse))\n",
    "r2.append((train_r2,test_r2))"
   ]
  },
  {
   "cell_type": "markdown",
   "metadata": {},
   "source": [
    "# SGDRegressor"
   ]
  },
  {
   "cell_type": "code",
   "execution_count": 94,
   "metadata": {},
   "outputs": [
    {
     "data": {
      "text/plain": [
       "SGDRegressor(alpha=0.0001, average=True, early_stopping=False, epsilon=0.1,\n",
       "             eta0=0.01, fit_intercept=True, l1_ratio=0.15,\n",
       "             learning_rate='invscaling', loss='squared_loss', max_iter=1000,\n",
       "             n_iter_no_change=5, penalty='l2', power_t=0.25, random_state=None,\n",
       "             shuffle=True, tol=0.001, validation_fraction=0.1, verbose=0,\n",
       "             warm_start=False)"
      ]
     },
     "execution_count": 94,
     "metadata": {},
     "output_type": "execute_result"
    }
   ],
   "source": [
    "from sklearn.linear_model import SGDRegressor\n",
    "sgd = SGDRegressor(average=True)\n",
    "sgd.fit(X_train_scl, y_train)"
   ]
  },
  {
   "cell_type": "code",
   "execution_count": 95,
   "metadata": {},
   "outputs": [
    {
     "name": "stdout",
     "output_type": "stream",
     "text": [
      "Training Score:\n",
      "       Explained Variance Score(EVC): 0.3853\n",
      "       Mean Absolute Error(MAE): 4860.45\n",
      "       Root Mean Squard Error(RMSE): 6699.26\n",
      "       R Square(R2): 0.3853\n"
     ]
    }
   ],
   "source": [
    "y_train_pred = sgd.predict(X_train_scl)\n",
    "train_evs = explained_variance_score(y_train,y_train_pred) \n",
    "train_mae = mean_absolute_error(y_train,y_train_pred)\n",
    "train_rmse = mean_squared_error(y_train,y_train_pred)**0.5\n",
    "train_r2 = r2_score(y_train,y_train_pred)\n",
    "str1 = '''Training Score:\n",
    "       Explained Variance Score(EVC): %.4f\n",
    "       Mean Absolute Error(MAE): %.2f\n",
    "       Root Mean Squard Error(RMSE): %.2f\n",
    "       R Square(R2): %.4f''' %(train_evs,train_mae,train_rmse,train_r2)\n",
    "print(str1)"
   ]
  },
  {
   "cell_type": "code",
   "execution_count": 96,
   "metadata": {},
   "outputs": [
    {
     "name": "stdout",
     "output_type": "stream",
     "text": [
      "Testing Score:\n",
      "       Explained Variance Score(EVC): 0.3470\n",
      "       Mean Absolute Error(MAE): 4941.27\n",
      "       Root Mean Squard Error(RMSE): 6846.51\n",
      "       R Square(R2): 0.3467\n"
     ]
    }
   ],
   "source": [
    "y_test_pred = sgd.predict(X_test_scl)\n",
    "test_evs = explained_variance_score(y_test,y_test_pred) \n",
    "test_mae = mean_absolute_error(y_test,y_test_pred)\n",
    "test_rmse = mean_squared_error(y_test,y_test_pred)**0.5\n",
    "test_r2 = r2_score(y_test,y_test_pred)\n",
    "str1 = '''Testing Score:\n",
    "       Explained Variance Score(EVC): %.4f\n",
    "       Mean Absolute Error(MAE): %.2f\n",
    "       Root Mean Squard Error(RMSE): %.2f\n",
    "       R Square(R2): %.4f''' %(test_evs,test_mae,test_rmse,test_r2)\n",
    "print(str1)"
   ]
  },
  {
   "cell_type": "code",
   "execution_count": 97,
   "metadata": {},
   "outputs": [],
   "source": [
    "# add results\n",
    "model_names.append('SGDRegressor')\n",
    "evs.append((train_evs,test_evs))\n",
    "mae.append((train_mae,test_mae))\n",
    "rmse.append((train_rmse,test_rmse))\n",
    "r2.append((train_r2,test_r2))"
   ]
  },
  {
   "cell_type": "markdown",
   "metadata": {},
   "source": [
    "# Ridge Regressor"
   ]
  },
  {
   "cell_type": "code",
   "execution_count": 117,
   "metadata": {},
   "outputs": [
    {
     "data": {
      "text/plain": [
       "RidgeCV(alphas=array([0.01, 0.03, 0.1 , 0.3 , 1.  , 3.  ]), cv=5,\n",
       "        fit_intercept=True, gcv_mode=None, normalize=False, scoring='r2',\n",
       "        store_cv_values=False)"
      ]
     },
     "execution_count": 117,
     "metadata": {},
     "output_type": "execute_result"
    }
   ],
   "source": [
    "from sklearn.linear_model import RidgeCV\n",
    "alpha = [0.01, 0.03, 0.1, 0.3, 1, 3]\n",
    "rcv = RidgeCV(alphas= alpha, cv = 5, scoring='r2')\n",
    "rcv.fit(X_train_scl,y_train)"
   ]
  },
  {
   "cell_type": "code",
   "execution_count": 118,
   "metadata": {},
   "outputs": [
    {
     "data": {
      "text/plain": [
       "3.0"
      ]
     },
     "execution_count": 118,
     "metadata": {},
     "output_type": "execute_result"
    }
   ],
   "source": [
    "rcv.alpha_"
   ]
  },
  {
   "cell_type": "code",
   "execution_count": 119,
   "metadata": {},
   "outputs": [
    {
     "name": "stdout",
     "output_type": "stream",
     "text": [
      "Training Score:\n",
      "       Explained Variance Score(EVC): 0.3853\n",
      "       Mean Absolute Error(MAE): 4859.87\n",
      "       Root Mean Squard Error(RMSE): 6699.26\n",
      "       R Square(R2): 0.3853\n"
     ]
    }
   ],
   "source": [
    "y_train_pred = rcv.predict(X_train_scl)\n",
    "train_evs = explained_variance_score(y_train,y_train_pred) \n",
    "train_mae = mean_absolute_error(y_train,y_train_pred)\n",
    "train_rmse = mean_squared_error(y_train,y_train_pred)**0.5\n",
    "train_r2 = r2_score(y_train,y_train_pred)\n",
    "str1 = '''Training Score:\n",
    "       Explained Variance Score(EVC): %.4f\n",
    "       Mean Absolute Error(MAE): %.2f\n",
    "       Root Mean Squard Error(RMSE): %.2f\n",
    "       R Square(R2): %.4f''' %(train_evs,train_mae,train_rmse,train_r2)\n",
    "print(str1)"
   ]
  },
  {
   "cell_type": "code",
   "execution_count": 120,
   "metadata": {},
   "outputs": [
    {
     "name": "stdout",
     "output_type": "stream",
     "text": [
      "Testing Score:\n",
      "       Explained Variance Score(EVC): 0.3469\n",
      "       Mean Absolute Error(MAE): 4940.71\n",
      "       Root Mean Squard Error(RMSE): 6846.84\n",
      "       R Square(R2): 0.3467\n"
     ]
    }
   ],
   "source": [
    "y_test_pred = rcv.predict(X_test_scl)\n",
    "test_evs = explained_variance_score(y_test,y_test_pred) \n",
    "test_mae = mean_absolute_error(y_test,y_test_pred)\n",
    "test_rmse = mean_squared_error(y_test,y_test_pred)**0.5\n",
    "test_r2 = r2_score(y_test,y_test_pred)\n",
    "str1 = '''Testing Score:\n",
    "       Explained Variance Score(EVC): %.4f\n",
    "       Mean Absolute Error(MAE): %.2f\n",
    "       Root Mean Squard Error(RMSE): %.2f\n",
    "       R Square(R2): %.4f''' %(test_evs,test_mae,test_rmse,test_r2)\n",
    "print(str1)"
   ]
  },
  {
   "cell_type": "code",
   "execution_count": 121,
   "metadata": {},
   "outputs": [],
   "source": [
    "# add results\n",
    "model_names.append('Ridge Regressor')\n",
    "evs.append((train_evs,test_evs))\n",
    "mae.append((train_mae,test_mae))\n",
    "rmse.append((train_rmse,test_rmse))\n",
    "r2.append((train_r2,test_r2))"
   ]
  },
  {
   "cell_type": "markdown",
   "metadata": {},
   "source": [
    "# Ensemble Learning"
   ]
  },
  {
   "cell_type": "markdown",
   "metadata": {},
   "source": [
    "## Bagging"
   ]
  },
  {
   "cell_type": "code",
   "execution_count": 122,
   "metadata": {},
   "outputs": [
    {
     "data": {
      "text/plain": [
       "BaggingRegressor(base_estimator=None, bootstrap=True, bootstrap_features=False,\n",
       "                 max_features=1.0, max_samples=1.0, n_estimators=100,\n",
       "                 n_jobs=None, oob_score=False, random_state=None, verbose=0,\n",
       "                 warm_start=False)"
      ]
     },
     "execution_count": 122,
     "metadata": {},
     "output_type": "execute_result"
    }
   ],
   "source": [
    "from sklearn.ensemble import BaggingRegressor\n",
    "bagging = BaggingRegressor(n_estimators=100)\n",
    "bagging.fit(X_train_scl, y_train)"
   ]
  },
  {
   "cell_type": "code",
   "execution_count": 123,
   "metadata": {},
   "outputs": [
    {
     "name": "stdout",
     "output_type": "stream",
     "text": [
      "Training Score:\n",
      "       Explained Variance Score(EVC): 0.9804\n",
      "       Mean Absolute Error(MAE): 710.25\n",
      "       Root Mean Squard Error(RMSE): 1195.67\n",
      "       R Square(R2): 0.9804\n"
     ]
    }
   ],
   "source": [
    "y_train_pred = bagging.predict(X_train_scl)\n",
    "train_evs = explained_variance_score(y_train,y_train_pred) \n",
    "train_mae = mean_absolute_error(y_train,y_train_pred)\n",
    "train_rmse = mean_squared_error(y_train,y_train_pred)**0.5\n",
    "train_r2 = r2_score(y_train,y_train_pred)\n",
    "str1 = '''Training Score:\n",
    "       Explained Variance Score(EVC): %.4f\n",
    "       Mean Absolute Error(MAE): %.2f\n",
    "       Root Mean Squard Error(RMSE): %.2f\n",
    "       R Square(R2): %.4f''' %(train_evs,train_mae,train_rmse,train_r2)\n",
    "print(str1)"
   ]
  },
  {
   "cell_type": "code",
   "execution_count": 124,
   "metadata": {},
   "outputs": [
    {
     "name": "stdout",
     "output_type": "stream",
     "text": [
      "Testing Score:\n",
      "       Explained Variance Score(EVC): 0.8637\n",
      "       Mean Absolute Error(MAE): 2016.57\n",
      "       Root Mean Squard Error(RMSE): 3128.14\n",
      "       R Square(R2): 0.8636\n"
     ]
    }
   ],
   "source": [
    "y_test_pred = bagging.predict(X_test_scl)\n",
    "test_evs = explained_variance_score(y_test,y_test_pred) \n",
    "test_mae = mean_absolute_error(y_test,y_test_pred)\n",
    "test_rmse = mean_squared_error(y_test,y_test_pred)**0.5\n",
    "test_r2 = r2_score(y_test,y_test_pred)\n",
    "str1 = '''Testing Score:\n",
    "       Explained Variance Score(EVC): %.4f\n",
    "       Mean Absolute Error(MAE): %.2f\n",
    "       Root Mean Squard Error(RMSE): %.2f\n",
    "       R Square(R2): %.4f''' %(test_evs,test_mae,test_rmse,test_r2)\n",
    "print(str1)"
   ]
  },
  {
   "cell_type": "code",
   "execution_count": 125,
   "metadata": {},
   "outputs": [],
   "source": [
    "# add results\n",
    "model_names.append('Bagging')\n",
    "evs.append((train_evs,test_evs))\n",
    "mae.append((train_mae,test_mae))\n",
    "rmse.append((train_rmse,test_rmse))\n",
    "r2.append((train_r2,test_r2))"
   ]
  },
  {
   "cell_type": "markdown",
   "metadata": {},
   "source": [
    "## AdaBoost"
   ]
  },
  {
   "cell_type": "code",
   "execution_count": 135,
   "metadata": {},
   "outputs": [
    {
     "data": {
      "text/plain": [
       "AdaBoostRegressor(base_estimator=None, learning_rate=1.0, loss='linear',\n",
       "                  n_estimators=100, random_state=None)"
      ]
     },
     "execution_count": 135,
     "metadata": {},
     "output_type": "execute_result"
    }
   ],
   "source": [
    "from sklearn.ensemble import AdaBoostRegressor\n",
    "ada_Boost = AdaBoostRegressor(n_estimators=100)\n",
    "ada_Boost.fit(X_train_scl, y_train)"
   ]
  },
  {
   "cell_type": "code",
   "execution_count": 136,
   "metadata": {},
   "outputs": [
    {
     "name": "stdout",
     "output_type": "stream",
     "text": [
      "Training Score:\n",
      "       Explained Variance Score(EVC): 0.6278\n",
      "       Mean Absolute Error(MAE): 5385.50\n",
      "       Root Mean Squard Error(RMSE): 6235.36\n",
      "       R Square(R2): 0.4675\n"
     ]
    }
   ],
   "source": [
    "y_train_pred = ada_Boost.predict(X_train_scl)\n",
    "train_evs = explained_variance_score(y_train,y_train_pred) \n",
    "train_mae = mean_absolute_error(y_train,y_train_pred)\n",
    "train_rmse = mean_squared_error(y_train,y_train_pred)**0.5\n",
    "train_r2 = r2_score(y_train,y_train_pred)\n",
    "str1 = '''Training Score:\n",
    "       Explained Variance Score(EVC): %.4f\n",
    "       Mean Absolute Error(MAE): %.2f\n",
    "       Root Mean Squard Error(RMSE): %.2f\n",
    "       R Square(R2): %.4f''' %(train_evs,train_mae,train_rmse,train_r2)\n",
    "print(str1)"
   ]
  },
  {
   "cell_type": "code",
   "execution_count": 137,
   "metadata": {},
   "outputs": [
    {
     "name": "stdout",
     "output_type": "stream",
     "text": [
      "Testing Score:\n",
      "       Explained Variance Score(EVC): 0.6146\n",
      "       Mean Absolute Error(MAE): 5417.19\n",
      "       Root Mean Squard Error(RMSE): 6290.15\n",
      "       R Square(R2): 0.4486\n"
     ]
    }
   ],
   "source": [
    "y_test_pred = ada_Boost.predict(X_test_scl)\n",
    "test_evs = explained_variance_score(y_test,y_test_pred) \n",
    "test_mae = mean_absolute_error(y_test,y_test_pred)\n",
    "test_rmse = mean_squared_error(y_test,y_test_pred)**0.5\n",
    "test_r2 = r2_score(y_test,y_test_pred)\n",
    "str1 = '''Testing Score:\n",
    "       Explained Variance Score(EVC): %.4f\n",
    "       Mean Absolute Error(MAE): %.2f\n",
    "       Root Mean Squard Error(RMSE): %.2f\n",
    "       R Square(R2): %.4f''' %(test_evs,test_mae,test_rmse,test_r2)\n",
    "print(str1)"
   ]
  },
  {
   "cell_type": "code",
   "execution_count": 138,
   "metadata": {},
   "outputs": [],
   "source": [
    "# add results\n",
    "model_names.append('AdaBoost')\n",
    "evs.append((train_evs,test_evs))\n",
    "mae.append((train_mae,test_mae))\n",
    "rmse.append((train_rmse,test_rmse))\n",
    "r2.append((train_r2,test_r2))"
   ]
  },
  {
   "cell_type": "markdown",
   "metadata": {},
   "source": [
    "## Stacking\n",
    "### stack_bagging\n"
   ]
  },
  {
   "cell_type": "code",
   "execution_count": 139,
   "metadata": {},
   "outputs": [
    {
     "data": {
      "text/plain": [
       "StackingRegressor(cv=None,\n",
       "                  estimators=[('lr',\n",
       "                               LinearRegression(copy_X=True, fit_intercept=True,\n",
       "                                                n_jobs=None, normalize=False)),\n",
       "                              ('sgd',\n",
       "                               SGDRegressor(alpha=0.0001, average=True,\n",
       "                                            early_stopping=False, epsilon=0.1,\n",
       "                                            eta0=0.01, fit_intercept=True,\n",
       "                                            l1_ratio=0.15,\n",
       "                                            learning_rate='invscaling',\n",
       "                                            loss='squared_loss', max_iter=1000,\n",
       "                                            n_iter_no_change=5, penalty='l2',\n",
       "                                            power_t=0.25,...\n",
       "                               RidgeCV(alphas=array([0.01, 0.03, 0.1 , 0.3 , 1.  , 3.  ]),\n",
       "                                       cv=5, fit_intercept=True, gcv_mode=None,\n",
       "                                       normalize=False, scoring='r2',\n",
       "                                       store_cv_values=False))],\n",
       "                  final_estimator=BaggingRegressor(base_estimator=None,\n",
       "                                                   bootstrap=True,\n",
       "                                                   bootstrap_features=False,\n",
       "                                                   max_features=1.0,\n",
       "                                                   max_samples=1.0,\n",
       "                                                   n_estimators=100,\n",
       "                                                   n_jobs=None, oob_score=False,\n",
       "                                                   random_state=None, verbose=0,\n",
       "                                                   warm_start=False),\n",
       "                  n_jobs=None, passthrough=False, verbose=0)"
      ]
     },
     "execution_count": 139,
     "metadata": {},
     "output_type": "execute_result"
    }
   ],
   "source": [
    "estimators = [('lr', lr), ('sgd', sgd), ('rcv', rcv)]\n",
    "stack_bagging = StackingRegressor(estimators=estimators, final_estimator=bagging)\n",
    "stack_bagging.fit(X_train_scl,y_train)"
   ]
  },
  {
   "cell_type": "code",
   "execution_count": 167,
   "metadata": {},
   "outputs": [
    {
     "name": "stdout",
     "output_type": "stream",
     "text": [
      "Training Score:\n",
      "       Explained Variance Score(EVC): 0.5897\n",
      "       Mean Absolute Error(MAE): 3999.44\n",
      "       Root Mean Squard Error(RMSE): 5475.68\n",
      "       R Square(R2): 0.5893\n"
     ]
    }
   ],
   "source": [
    "y_train_pred = stack_bagging.predict(X_train_scl)\n",
    "train_evs = explained_variance_score(y_train,y_train_pred) \n",
    "train_mae = mean_absolute_error(y_train,y_train_pred)\n",
    "train_rmse = mean_squared_error(y_train,y_train_pred)**0.5\n",
    "train_r2 = r2_score(y_train,y_train_pred)\n",
    "str1 = '''Training Score:\n",
    "       Explained Variance Score(EVC): %.4f\n",
    "       Mean Absolute Error(MAE): %.2f\n",
    "       Root Mean Squard Error(RMSE): %.2f\n",
    "       R Square(R2): %.4f''' %(train_evs,train_mae,train_rmse,train_r2)\n",
    "print(str1)"
   ]
  },
  {
   "cell_type": "code",
   "execution_count": 168,
   "metadata": {},
   "outputs": [
    {
     "name": "stdout",
     "output_type": "stream",
     "text": [
      "Testing Score:\n",
      "       Explained Variance Score(EVC): 0.5614\n",
      "       Mean Absolute Error(MAE): 4092.37\n",
      "       Root Mean Squard Error(RMSE): 5611.08\n",
      "       R Square(R2): 0.5612\n"
     ]
    }
   ],
   "source": [
    "y_test_pred = stack_bagging.predict(X_test_scl)\n",
    "test_evs = explained_variance_score(y_test,y_test_pred) \n",
    "test_mae = mean_absolute_error(y_test,y_test_pred)\n",
    "test_rmse = mean_squared_error(y_test,y_test_pred)**0.5\n",
    "test_r2 = r2_score(y_test,y_test_pred)\n",
    "str1 = '''Testing Score:\n",
    "       Explained Variance Score(EVC): %.4f\n",
    "       Mean Absolute Error(MAE): %.2f\n",
    "       Root Mean Squard Error(RMSE): %.2f\n",
    "       R Square(R2): %.4f''' %(test_evs,test_mae,test_rmse,test_r2)\n",
    "print(str1)"
   ]
  },
  {
   "cell_type": "code",
   "execution_count": 169,
   "metadata": {},
   "outputs": [],
   "source": [
    "# add results\n",
    "model_names.append('stack_bagging')\n",
    "evs.append((train_evs,test_evs))\n",
    "mae.append((train_mae,test_mae))\n",
    "rmse.append((train_rmse,test_rmse))\n",
    "r2.append((train_r2,test_r2))"
   ]
  },
  {
   "cell_type": "markdown",
   "metadata": {},
   "source": [
    "### stack_boosting"
   ]
  },
  {
   "cell_type": "code",
   "execution_count": 145,
   "metadata": {},
   "outputs": [
    {
     "data": {
      "text/plain": [
       "StackingRegressor(cv=None,\n",
       "                  estimators=[('lr',\n",
       "                               LinearRegression(copy_X=True, fit_intercept=True,\n",
       "                                                n_jobs=None, normalize=False)),\n",
       "                              ('sgd',\n",
       "                               SGDRegressor(alpha=0.0001, average=True,\n",
       "                                            early_stopping=False, epsilon=0.1,\n",
       "                                            eta0=0.01, fit_intercept=True,\n",
       "                                            l1_ratio=0.15,\n",
       "                                            learning_rate='invscaling',\n",
       "                                            loss='squared_loss', max_iter=1000,\n",
       "                                            n_iter_no_change=5, penalty='l2',\n",
       "                                            power_t=0.25,...\n",
       "                                            validation_fraction=0.1, verbose=0,\n",
       "                                            warm_start=False)),\n",
       "                              ('rcv',\n",
       "                               RidgeCV(alphas=array([0.01, 0.03, 0.1 , 0.3 , 1.  , 3.  ]),\n",
       "                                       cv=5, fit_intercept=True, gcv_mode=None,\n",
       "                                       normalize=False, scoring='r2',\n",
       "                                       store_cv_values=False))],\n",
       "                  final_estimator=AdaBoostRegressor(base_estimator=None,\n",
       "                                                    learning_rate=1.0,\n",
       "                                                    loss='linear',\n",
       "                                                    n_estimators=100,\n",
       "                                                    random_state=None),\n",
       "                  n_jobs=None, passthrough=False, verbose=0)"
      ]
     },
     "execution_count": 145,
     "metadata": {},
     "output_type": "execute_result"
    }
   ],
   "source": [
    "estimators = [('lr', lr), ('sgd', sgd), ('rcv', rcv)]\n",
    "stack_boost = StackingRegressor(estimators=estimators, final_estimator=ada_Boost)\n",
    "stack_boost.fit(X_train_scl,y_train)"
   ]
  },
  {
   "cell_type": "code",
   "execution_count": 170,
   "metadata": {},
   "outputs": [
    {
     "name": "stdout",
     "output_type": "stream",
     "text": [
      "Training Score:\n",
      "       Explained Variance Score(EVC): 0.5876\n",
      "       Mean Absolute Error(MAE): 4755.33\n",
      "       Root Mean Squard Error(RMSE): 5840.60\n",
      "       R Square(R2): 0.5328\n"
     ]
    }
   ],
   "source": [
    "y_train_pred = stack_boost.predict(X_train_scl)\n",
    "train_evs = explained_variance_score(y_train,y_train_pred) \n",
    "train_mae = mean_absolute_error(y_train,y_train_pred)\n",
    "train_rmse = mean_squared_error(y_train,y_train_pred)**0.5\n",
    "train_r2 = r2_score(y_train,y_train_pred)\n",
    "str1 = '''Training Score:\n",
    "       Explained Variance Score(EVC): %.4f\n",
    "       Mean Absolute Error(MAE): %.2f\n",
    "       Root Mean Squard Error(RMSE): %.2f\n",
    "       R Square(R2): %.4f''' %(train_evs,train_mae,train_rmse,train_r2)\n",
    "print(str1)"
   ]
  },
  {
   "cell_type": "code",
   "execution_count": 171,
   "metadata": {},
   "outputs": [
    {
     "name": "stdout",
     "output_type": "stream",
     "text": [
      "Testing Score:\n",
      "       Explained Variance Score(EVC): 0.5715\n",
      "       Mean Absolute Error(MAE): 4821.38\n",
      "       Root Mean Squard Error(RMSE): 5917.84\n",
      "       R Square(R2): 0.5119\n"
     ]
    }
   ],
   "source": [
    "y_test_pred = stack_boost.predict(X_test_scl)\n",
    "test_evs = explained_variance_score(y_test,y_test_pred) \n",
    "test_mae = mean_absolute_error(y_test,y_test_pred)\n",
    "test_rmse = mean_squared_error(y_test,y_test_pred)**0.5\n",
    "test_r2 = r2_score(y_test,y_test_pred)\n",
    "str1 = '''Testing Score:\n",
    "       Explained Variance Score(EVC): %.4f\n",
    "       Mean Absolute Error(MAE): %.2f\n",
    "       Root Mean Squard Error(RMSE): %.2f\n",
    "       R Square(R2): %.4f''' %(test_evs,test_mae,test_rmse,test_r2)\n",
    "print(str1)"
   ]
  },
  {
   "cell_type": "code",
   "execution_count": 172,
   "metadata": {},
   "outputs": [],
   "source": [
    "# add results\n",
    "model_names.append('stack_boosting')\n",
    "evs.append((train_evs,test_evs))\n",
    "mae.append((train_mae,test_mae))\n",
    "rmse.append((train_rmse,test_rmse))\n",
    "r2.append((train_r2,test_r2))"
   ]
  },
  {
   "cell_type": "markdown",
   "metadata": {},
   "source": [
    "### stack_randomforest"
   ]
  },
  {
   "cell_type": "code",
   "execution_count": 149,
   "metadata": {},
   "outputs": [
    {
     "data": {
      "text/plain": [
       "StackingRegressor(cv=None,\n",
       "                  estimators=[('lr',\n",
       "                               LinearRegression(copy_X=True, fit_intercept=True,\n",
       "                                                n_jobs=None, normalize=False)),\n",
       "                              ('sgd',\n",
       "                               SGDRegressor(alpha=0.0001, average=True,\n",
       "                                            early_stopping=False, epsilon=0.1,\n",
       "                                            eta0=0.01, fit_intercept=True,\n",
       "                                            l1_ratio=0.15,\n",
       "                                            learning_rate='invscaling',\n",
       "                                            loss='squared_loss', max_iter=1000,\n",
       "                                            n_iter_no_change=5, penalty='l2',\n",
       "                                            power_t=0.25,...\n",
       "                  final_estimator=RandomForestRegressor(bootstrap=True,\n",
       "                                                        ccp_alpha=0.0,\n",
       "                                                        criterion='mse',\n",
       "                                                        max_depth=300,\n",
       "                                                        max_features='auto',\n",
       "                                                        max_leaf_nodes=None,\n",
       "                                                        max_samples=None,\n",
       "                                                        min_impurity_decrease=0.0,\n",
       "                                                        min_impurity_split=None,\n",
       "                                                        min_samples_leaf=1,\n",
       "                                                        min_samples_split=2,\n",
       "                                                        min_weight_fraction_leaf=0.0,\n",
       "                                                        n_estimators=20,\n",
       "                                                        n_jobs=None,\n",
       "                                                        oob_score=False,\n",
       "                                                        random_state=None,\n",
       "                                                        verbose=0,\n",
       "                                                        warm_start=False),\n",
       "                  n_jobs=None, passthrough=False, verbose=0)"
      ]
     },
     "execution_count": 149,
     "metadata": {},
     "output_type": "execute_result"
    }
   ],
   "source": [
    "from sklearn.ensemble import StackingRegressor # scikit-learn >0.21\n",
    "from sklearn.ensemble import RandomForestRegressor\n",
    "estimators = [('lr', lr), ('sgd', sgd), ('rcv', rcv)]\n",
    "stack_rf =StackingRegressor(estimators=estimators, final_estimator=RandomForestRegressor(n_estimators = 20, max_depth = 300))\n",
    "stack_rf.fit(X_train_scl,y_train)"
   ]
  },
  {
   "cell_type": "code",
   "execution_count": 173,
   "metadata": {},
   "outputs": [
    {
     "name": "stdout",
     "output_type": "stream",
     "text": [
      "Training Score:\n",
      "       Explained Variance Score(EVC): 0.5830\n",
      "       Mean Absolute Error(MAE): 4028.21\n",
      "       Root Mean Squard Error(RMSE): 5524.59\n",
      "       R Square(R2): 0.5820\n"
     ]
    }
   ],
   "source": [
    "y_train_pred = stack_rf.predict(X_train_scl)\n",
    "train_evs = explained_variance_score(y_train,y_train_pred) \n",
    "train_mae = mean_absolute_error(y_train,y_train_pred)\n",
    "train_rmse = mean_squared_error(y_train,y_train_pred)**0.5\n",
    "train_r2 = r2_score(y_train,y_train_pred)\n",
    "str1 = '''Training Score:\n",
    "       Explained Variance Score(EVC): %.4f\n",
    "       Mean Absolute Error(MAE): %.2f\n",
    "       Root Mean Squard Error(RMSE): %.2f\n",
    "       R Square(R2): %.4f''' %(train_evs,train_mae,train_rmse,train_r2)\n",
    "print(str1)"
   ]
  },
  {
   "cell_type": "code",
   "execution_count": 174,
   "metadata": {},
   "outputs": [
    {
     "name": "stdout",
     "output_type": "stream",
     "text": [
      "Testing Score:\n",
      "       Explained Variance Score(EVC): 0.5600\n",
      "       Mean Absolute Error(MAE): 4094.32\n",
      "       Root Mean Squard Error(RMSE): 5624.67\n",
      "       R Square(R2): 0.5591\n"
     ]
    }
   ],
   "source": [
    "y_test_pred = stack_rf.predict(X_test_scl)\n",
    "test_evs = explained_variance_score(y_test,y_test_pred) \n",
    "test_mae = mean_absolute_error(y_test,y_test_pred)\n",
    "test_rmse = mean_squared_error(y_test,y_test_pred)**0.5\n",
    "test_r2 = r2_score(y_test,y_test_pred)\n",
    "str1 = '''Testing Score:\n",
    "       Explained Variance Score(EVC): %.4f\n",
    "       Mean Absolute Error(MAE): %.2f\n",
    "       Root Mean Squard Error(RMSE): %.2f\n",
    "       R Square(R2): %.4f''' %(test_evs,test_mae,test_rmse,test_r2)\n",
    "print(str1)"
   ]
  },
  {
   "cell_type": "code",
   "execution_count": 175,
   "metadata": {},
   "outputs": [],
   "source": [
    "# add results\n",
    "model_names.append('stack_rf')\n",
    "evs.append((train_evs,test_evs))\n",
    "mae.append((train_mae,test_mae))\n",
    "rmse.append((train_rmse,test_rmse))\n",
    "r2.append((train_r2,test_r2))"
   ]
  },
  {
   "cell_type": "markdown",
   "metadata": {},
   "source": [
    "### Stack_MLPRegressor"
   ]
  },
  {
   "cell_type": "code",
   "execution_count": 159,
   "metadata": {},
   "outputs": [
    {
     "data": {
      "text/plain": [
       "StackingRegressor(cv=None,\n",
       "                  estimators=[('lr',\n",
       "                               LinearRegression(copy_X=True, fit_intercept=True,\n",
       "                                                n_jobs=None, normalize=False)),\n",
       "                              ('sgd',\n",
       "                               SGDRegressor(alpha=0.0001, average=True,\n",
       "                                            early_stopping=False, epsilon=0.1,\n",
       "                                            eta0=0.01, fit_intercept=True,\n",
       "                                            l1_ratio=0.15,\n",
       "                                            learning_rate='invscaling',\n",
       "                                            loss='squared_loss', max_iter=1000,\n",
       "                                            n_iter_no_change=5, penalty='l2',\n",
       "                                            power_t=0.25,...\n",
       "                                               early_stopping=False,\n",
       "                                               epsilon=1e-08,\n",
       "                                               hidden_layer_sizes=(100,),\n",
       "                                               learning_rate='constant',\n",
       "                                               learning_rate_init=0.001,\n",
       "                                               max_fun=15000, max_iter=200,\n",
       "                                               momentum=0.9,\n",
       "                                               n_iter_no_change=10,\n",
       "                                               nesterovs_momentum=True,\n",
       "                                               power_t=0.5, random_state=None,\n",
       "                                               shuffle=True, solver='adam',\n",
       "                                               tol=0.0001,\n",
       "                                               validation_fraction=0.1,\n",
       "                                               verbose=False,\n",
       "                                               warm_start=False),\n",
       "                  n_jobs=None, passthrough=False, verbose=0)"
      ]
     },
     "execution_count": 159,
     "metadata": {},
     "output_type": "execute_result"
    }
   ],
   "source": [
    "from sklearn.neural_network import MLPRegressor\n",
    "estimators = [('lr', lr), ('sgd', sgd), ('rcv', rcv)]\n",
    "stack_mlp = StackingRegressor(estimators=estimators, final_estimator=MLPRegressor())\n",
    "stack_mlp.fit(X_train_scl,y_train)"
   ]
  },
  {
   "cell_type": "code",
   "execution_count": 176,
   "metadata": {},
   "outputs": [
    {
     "name": "stdout",
     "output_type": "stream",
     "text": [
      "Training Score:\n",
      "       Explained Variance Score(EVC): 0.5829\n",
      "       Mean Absolute Error(MAE): 4019.17\n",
      "       Root Mean Squard Error(RMSE): 5631.21\n",
      "       R Square(R2): 0.5657\n"
     ]
    }
   ],
   "source": [
    "y_train_pred = stack_mlp.predict(X_train_scl)\n",
    "train_evs = explained_variance_score(y_train,y_train_pred) \n",
    "train_mae = mean_absolute_error(y_train,y_train_pred)\n",
    "train_rmse = mean_squared_error(y_train,y_train_pred)**0.5\n",
    "train_r2 = r2_score(y_train,y_train_pred)\n",
    "str1 = '''Training Score:\n",
    "       Explained Variance Score(EVC): %.4f\n",
    "       Mean Absolute Error(MAE): %.2f\n",
    "       Root Mean Squard Error(RMSE): %.2f\n",
    "       R Square(R2): %.4f''' %(train_evs,train_mae,train_rmse,train_r2)\n",
    "print(str1)"
   ]
  },
  {
   "cell_type": "code",
   "execution_count": 179,
   "metadata": {},
   "outputs": [
    {
     "name": "stdout",
     "output_type": "stream",
     "text": [
      "Testing Score:\n",
      "       Explained Variance Score(EVC): 0.5611\n",
      "       Mean Absolute Error(MAE): 4068.16\n",
      "       Root Mean Squard Error(RMSE): 5700.79\n",
      "       R Square(R2): 0.5471\n"
     ]
    }
   ],
   "source": [
    "y_test_pred = stack_mlp.predict(X_test_scl)\n",
    "test_evs = explained_variance_score(y_test,y_test_pred) \n",
    "test_mae = mean_absolute_error(y_test,y_test_pred)\n",
    "test_rmse = mean_squared_error(y_test,y_test_pred)**0.5\n",
    "test_r2 = r2_score(y_test,y_test_pred)\n",
    "str1 = '''Testing Score:\n",
    "       Explained Variance Score(EVC): %.4f\n",
    "       Mean Absolute Error(MAE): %.2f\n",
    "       Root Mean Squard Error(RMSE): %.2f\n",
    "       R Square(R2): %.4f''' %(test_evs,test_mae,test_rmse,test_r2)\n",
    "print(str1)"
   ]
  },
  {
   "cell_type": "code",
   "execution_count": 178,
   "metadata": {},
   "outputs": [],
   "source": [
    "# add results\n",
    "model_names.append('stack_mlp')\n",
    "evs.append((train_evs,test_evs))\n",
    "mae.append((train_mae,test_mae))\n",
    "rmse.append((train_rmse,test_rmse))\n",
    "r2.append((train_r2,test_r2))"
   ]
  },
  {
   "cell_type": "code",
   "execution_count": 182,
   "metadata": {},
   "outputs": [
    {
     "data": {
      "text/plain": [
       "['linear_stacking.pkl']"
      ]
     },
     "execution_count": 182,
     "metadata": {},
     "output_type": "execute_result"
    }
   ],
   "source": [
    "dic = {'model_names':model_names,\n",
    "      'evs': evs,\n",
    "       'mae': mae,\n",
    "      'rmse': rmse,\n",
    "      'r2': r2}\n",
    "joblib.dump(dic,'linear_stacking.pkl')"
   ]
  }
 ],
 "metadata": {
  "kernelspec": {
   "display_name": "Python 3",
   "language": "python",
   "name": "python3"
  },
  "language_info": {
   "codemirror_mode": {
    "name": "ipython",
    "version": 3
   },
   "file_extension": ".py",
   "mimetype": "text/x-python",
   "name": "python",
   "nbconvert_exporter": "python",
   "pygments_lexer": "ipython3",
   "version": "3.7.6"
  }
 },
 "nbformat": 4,
 "nbformat_minor": 4
}
